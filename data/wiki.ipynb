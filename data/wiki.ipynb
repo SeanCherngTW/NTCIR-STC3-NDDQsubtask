{
 "cells": [
  {
   "cell_type": "code",
   "execution_count": 33,
   "metadata": {
    "collapsed": false
   },
   "outputs": [],
   "source": [
    "import gzip\n",
    "import shutil"
   ]
  },
  {
   "cell_type": "code",
   "execution_count": 37,
   "metadata": {
    "collapsed": true
   },
   "outputs": [],
   "source": [
    "f_all = open(\"wiki_all_abstract.txt\", \"w\")\n",
    "f_simple = open(\"wiki_simple_abstract.txt\", \"w\")"
   ]
  },
  {
   "cell_type": "code",
   "execution_count": 38,
   "metadata": {
    "collapsed": false
   },
   "outputs": [],
   "source": [
    "with gzip.open('simplewiki-latest-abstract.xml.gz', 'rb') as f:\n",
    "    for line in f:\n",
    "        line = line.decode(\"utf-8\")\n",
    "        if line.startswith('<abstract>'):\n",
    "            f_simple.write(line.strip()[10:-12] + '\\n')\n",
    "f_simple.close()"
   ]
  },
  {
   "cell_type": "code",
   "execution_count": 39,
   "metadata": {
    "collapsed": false
   },
   "outputs": [],
   "source": [
    "with gzip.open('enwiki-latest-abstract.xml.gz', 'rb') as f:\n",
    "    for line in f:\n",
    "        line = line.decode(\"utf-8\")\n",
    "        if line.startswith('<abstract>'):\n",
    "            f_all.write(line.strip()[10:-12] + '\\n')\n",
    "f_all.close()"
   ]
  },
  {
   "cell_type": "code",
   "execution_count": null,
   "metadata": {
    "collapsed": true
   },
   "outputs": [],
   "source": []
  }
 ],
 "metadata": {
  "kernelspec": {
   "display_name": "Python 3",
   "language": "python",
   "name": "python3"
  },
  "language_info": {
   "codemirror_mode": {
    "name": "ipython",
    "version": 3
   },
   "file_extension": ".py",
   "mimetype": "text/x-python",
   "name": "python",
   "nbconvert_exporter": "python",
   "pygments_lexer": "ipython3",
   "version": "3.5.2"
  }
 },
 "nbformat": 4,
 "nbformat_minor": 2
}
