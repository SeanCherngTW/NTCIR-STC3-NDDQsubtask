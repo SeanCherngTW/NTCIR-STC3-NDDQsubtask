{
 "cells": [
  {
   "cell_type": "code",
   "execution_count": 65,
   "metadata": {},
   "outputs": [],
   "source": [
    "import json\n",
    "import operator\n",
    "import numpy as np"
   ]
  },
  {
   "cell_type": "code",
   "execution_count": 176,
   "metadata": {},
   "outputs": [],
   "source": [
    "with open('MeGCBERT_Error_analysis2.json', 'r') as f:\n",
    "    data = json.load(f)\n",
    "with open('MeHGCNN2.json', 'r') as f:\n",
    "    data2 = json.load(f)\n",
    "with open('ReTesting/stc3-nddq-test-annotations.json', 'r') as f:\n",
    "    label = json.load(f)"
   ]
  },
  {
   "cell_type": "markdown",
   "metadata": {},
   "source": [
    "## Preprocessing"
   ]
  },
  {
   "cell_type": "code",
   "execution_count": 55,
   "metadata": {},
   "outputs": [],
   "source": [
    "def label_preprocess(l):\n",
    "    lDQ = []\n",
    "    for tmp in l['annotations']:\n",
    "        lDQ.append(tmp['quality'])\n",
    "\n",
    "    lDQ_processed = label_format(lDQ)\n",
    "    lA, lE, lS = lDQ_processed['A'], lDQ_processed['E'], lDQ_processed['S']\n",
    "    return lA, lE, lS"
   ]
  },
  {
   "cell_type": "code",
   "execution_count": 45,
   "metadata": {},
   "outputs": [],
   "source": [
    "def label_format(quality):\n",
    "    DQ = {}\n",
    "    qualityA = {-2: 0, -1: 0, 0: 0, 1: 0, 2: 0}\n",
    "    qualityS = {-2: 0, -1: 0, 0: 0, 1: 0, 2: 0}\n",
    "    qualityE = {-2: 0, -1: 0, 0: 0, 1: 0, 2: 0}\n",
    "    quality_keys = [-2, -1, 0, 1, 2]\n",
    "\n",
    "    for q in quality:\n",
    "        qualityA[q['A']] += 1\n",
    "        qualityS[q['S']] += 1\n",
    "        qualityE[q['E']] += 1\n",
    "\n",
    "    for k in quality_keys:\n",
    "        qualityA[k] /= 19\n",
    "        qualityS[k] /= 19\n",
    "        qualityE[k] /= 19\n",
    "\n",
    "    DQ['A'] = [qualityA[k] for k in sorted(qualityA.keys())]\n",
    "    DQ['S'] = [qualityS[k] for k in sorted(qualityS.keys())]\n",
    "    DQ['E'] = [qualityE[k] for k in sorted(qualityE.keys())]\n",
    "    return DQ"
   ]
  },
  {
   "cell_type": "markdown",
   "metadata": {},
   "source": [
    "## Error Analysis"
   ]
  },
  {
   "cell_type": "code",
   "execution_count": 58,
   "metadata": {},
   "outputs": [],
   "source": [
    "def normalize(pred, truth):\n",
    "    if len(pred) != len(truth):\n",
    "        raise ValueError(\"pred and truth have different lengths\")\n",
    "    if len(pred) == 0 or len(truth) == 0:\n",
    "        raise ValueError(\"pred or truth are empty\")\n",
    "\n",
    "    pred, truth = np.asarray(pred), np.asarray(truth)\n",
    "    if not ((pred >= 0).all() and (truth >= 0).all()):\n",
    "        raise ValueError(\"probability distribution should not be negative\")\n",
    "    pred, truth = pred / pred.sum(), truth / truth.sum()\n",
    "    return pred, truth\n",
    "\n",
    "def nmd(pred, truth):\n",
    "    pred, truth = normalize(pred, truth)\n",
    "    cum_p, cum_q = np.cumsum(pred), np.cumsum(truth)\n",
    "    return (np.abs(cum_p - cum_q)).sum() / (len(pred) - 1.)\n",
    "\n",
    "def distance_weighted(pred, truth, i):\n",
    "    return np.sum([np.abs(i - j) * ((pred[j] - truth[j]) ** 2) for j in range(len(pred))])\n",
    "\n",
    "def order_aware_div(pred, truth):\n",
    "    return np.mean([distance_weighted(pred, truth, i) for i in range(len(pred)) if pred[i] > 0])\n",
    "\n",
    "def rsnod(pred, truth):\n",
    "    pred, truth = normalize(pred, truth)\n",
    "    sod = (order_aware_div(pred, truth) + order_aware_div(truth, pred)) / 2.\n",
    "    return np.sqrt((sod / (len(pred) - 1)))"
   ]
  },
  {
   "cell_type": "code",
   "execution_count": 182,
   "metadata": {},
   "outputs": [],
   "source": [
    "def _toList(quality):\n",
    "    l = [quality[k] for k in sorted(quality.keys())]\n",
    "    l[0], l[1] = l[1], l[0]\n",
    "    return l"
   ]
  },
  {
   "cell_type": "code",
   "execution_count": 183,
   "metadata": {},
   "outputs": [],
   "source": [
    "def DQerror_analysis(data, label):        \n",
    "    maxNMDA = 0\n",
    "    maxNMDE = 0\n",
    "    maxNMDS = 0\n",
    "    maxRSNODA = 0\n",
    "    maxRSNODE = 0\n",
    "    maxRSNODS = 0\n",
    "    idsA = set()\n",
    "    idsE = set()\n",
    "    idsS = set()\n",
    "\n",
    "    for d, l in zip(data, label):\n",
    "        assert d['id'] == l['id'], 'ID not match {} & {}'.format(d['id'], l['id'])\n",
    "        dA, dE, dS = _toList(d['quality']['A']), _toList(d['quality']['E']), _toList(d['quality']['S']),\n",
    "        lA, lE, lS = label_preprocess(l)\n",
    "              \n",
    "        curNMDA = nmd(dA, lA)\n",
    "        curRSNODA = rsnod(dA, lA)\n",
    "        curNMDE = nmd(dE, lE)\n",
    "        curRSNODE = rsnod(dE, lE)\n",
    "        curNMDS = nmd(dS, lS)\n",
    "        curRSNODS = rsnod(dS, lS)\n",
    "        \n",
    "        if curNMDA > maxNMDA:\n",
    "            maxNMDA = curNMDA\n",
    "            idsA.add(d['id'])\n",
    "            \n",
    "        if curNMDE > maxNMDE:\n",
    "            maxNMDE = curNMDE\n",
    "            idsE.add(d['id'])\n",
    "            \n",
    "        if curNMDS > maxNMDS:\n",
    "            maxNMDS = curNMDS\n",
    "            idsS.add(d['id'])\n",
    "        \n",
    "        if curRSNODA > maxRSNODA:\n",
    "            maxRSNODA = curRSNODA\n",
    "            idsA.add(d['id'])\n",
    "            \n",
    "        if curRSNODE > maxRSNODE:\n",
    "            maxRSNODE = curRSNODE\n",
    "            idsE.add(d['id'])\n",
    "            \n",
    "        if curRSNODS > maxRSNODS:\n",
    "            maxRSNODS = curRSNODS\n",
    "            idsS.add(d['id'])\n",
    "    \n",
    "    return idsA, idsE, idsS"
   ]
  },
  {
   "cell_type": "code",
   "execution_count": 184,
   "metadata": {},
   "outputs": [
    {
     "data": {
      "text/plain": [
       "({'3575941147776865',\n",
       "  '3663184819022212',\n",
       "  '3718912216646049',\n",
       "  '3789298845556342',\n",
       "  '3848972026478415',\n",
       "  '3850365923254701',\n",
       "  '4022842192155296',\n",
       "  '4059161753539505',\n",
       "  '4095409889100831',\n",
       "  '4136604979135705',\n",
       "  '4228745059319600'},\n",
       " {'3718912216646049',\n",
       "  '3782529536386965',\n",
       "  '3822586650143107',\n",
       "  '3848972026478415',\n",
       "  '4022842192155296',\n",
       "  '4059161753539505',\n",
       "  '4221836747009055'},\n",
       " {'3718912216646049',\n",
       "  '3804383832045677',\n",
       "  '3848972026478415',\n",
       "  '4022842192155296',\n",
       "  '4059161753539505',\n",
       "  '4132444007180169',\n",
       "  '4221836747009055'})"
      ]
     },
     "execution_count": 184,
     "metadata": {},
     "output_type": "execute_result"
    }
   ],
   "source": [
    "DQerror_analysis(data,label)"
   ]
  },
  {
   "cell_type": "code",
   "execution_count": 189,
   "metadata": {},
   "outputs": [
    {
     "name": "stdout",
     "output_type": "stream",
     "text": [
      "[{'utterances': [\"Compared to Unicom, the speed of Telecom 3G doesn't have the advantage, so the Unicom dual SIM card is better than Telecom. However, the dual SIM card phone of Telecom doesn’t support Telecom and Unicom’s dual SIM card and dual 3G any more, which is still outmoded and only engaged in cdma2000+gsm. I will abandon the Telecom phone number sooner or later and many people will give up Telecom phone number! @ China Telecom Beijing Customer Service @ ZTE Corporation @ Huawei Fans Club @ Coolpad Official Weibo @ Xue Tao’s Design Road\"], 'sender': 'customer'}, {'utterances': ['Hello! Where did you surf the Internet? If convenient, could you please send the business number and detailed address to me? I am very grateful for your precious suggestions. I will feed back to you'], 'sender': 'helpdesk'}, {'utterances': [\"Telecom cdma2000 is not as quick as Unicom wcdma, which is determined by the technology and can't be changed. I just want to use Telecom and Unicom 3G on the same phone simultaneously to surf the Internet. Hope the restriction can be loosened.\"], 'sender': 'customer'}, {'utterances': ['Hello! I know and I will feed back your use demand and suggestions. Please pay attention to it again together with me.'], 'sender': 'helpdesk'}]\n",
      "[0.1228212267, 0.2190043926, 0.498544842, 0.1523597389, 0.0072698779]\n",
      "[0.162387073, 0.2527758181, 0.4873810112, 0.092991285, 0.0044647753]\n",
      "[0.15789473684210525, 0.21052631578947367, 0.5263157894736842, 0.10526315789473684, 0.0]\n",
      "\n",
      "[{'utterances': ['I have communicated with Beijing Unicom about my God Card since I came back on the 16th. It hasn’t been resolved. You promised to solve the problem within 48 hours? @ China Unicom Beijing Customer Service'], 'sender': 'customer'}, {'utterances': ['H What is the specific problem you encountered?'], 'sender': 'helpdesk'}, {'utterances': ['I wanted to transact the RMB 3 yuan’s God Card package with unlimited traffic data. I called them the whole week last week and was told they were handling it. They even canceled RMB 1 yuan during the period. How much time do you need to handle the problem? It the month end now. Can I use it next month?'], 'sender': 'customer'}, {'utterances': ['H If the working staff has assisted you to feed back the problem, there will be messages contating you in time later.'], 'sender': 'helpdesk'}, {'utterances': ['Thank you! You didnt provide any help.'], 'sender': 'customer'}]\n",
      "[0.1809123009, 0.1600703001, 0.5141165853, 0.1277016997, 0.0171991345]\n",
      "[0.0914553702, 0.0950260609, 0.3428678215, 0.3212197423, 0.1494309753]\n",
      "[0.47368421052631576, 0.2631578947368421, 0.2631578947368421, 0.0, 0.0]\n",
      "\n"
     ]
    }
   ],
   "source": [
    "# Error analysis check\n",
    "for d, d2, l in zip(data, data2, label):\n",
    "    if l['id'] == '3718912216646049' or l['id'] == '4221836747009055':\n",
    "        print(l['turns'])\n",
    "        dA, dE, dS = _toList(d['quality']['A']), _toList(d['quality']['E']), _toList(d['quality']['S'])\n",
    "        d2A, d2E, d2S = _toList(d2['quality']['A']), _toList(d2['quality']['E']), _toList(d2['quality']['S'])\n",
    "        lA, lE, lS = label_preprocess(l)\n",
    "        print(dA)\n",
    "        print(d2A)\n",
    "        print(lA)\n",
    "        print()"
   ]
  },
  {
   "cell_type": "markdown",
   "metadata": {},
   "source": [
    "## ACC"
   ]
  },
  {
   "cell_type": "code",
   "execution_count": 227,
   "metadata": {},
   "outputs": [],
   "source": [
    "def DQACC(data, label):    \n",
    "    from pprint import pprint\n",
    "    def _toList(quality):\n",
    "        l = [quality[k] for k in sorted(quality.keys())]\n",
    "        l[0], l[1] = l[1], l[0]\n",
    "        return l\n",
    "    \n",
    "    correctA = 0\n",
    "    correctE = 0\n",
    "    correctS = 0\n",
    "    cmA = [[0 for x in range(5)] for y in range(5)] \n",
    "    cmE = [[0 for x in range(5)] for y in range(5)] \n",
    "    cmS = [[0 for x in range(5)] for y in range(5)] \n",
    "    \n",
    "    for d, l in zip(data, label):\n",
    "        assert d['id'] == l['id'], 'ID not match {} & {}'.format(d['id'], l['id'])\n",
    "        dA, dE, dS = _toList(d['quality']['A']), _toList(d['quality']['E']), _toList(d['quality']['S']),\n",
    "        lA, lE, lS = label_preprocess(l)\n",
    "        \n",
    "        d_idxA = dA.index(max(dA))\n",
    "        d_idxE = dE.index(max(dE))\n",
    "        d_idxS = dS.index(max(dS))\n",
    "        \n",
    "        maxA = max(lA)\n",
    "        maxE = max(lE)\n",
    "        maxS = max(lS)\n",
    "        l_indicesA = [i for i, x in enumerate(lA) if x == maxA]\n",
    "        l_indicesE = [i for i, x in enumerate(lE) if x == maxE]\n",
    "        l_indicesS = [i for i, x in enumerate(lS) if x == maxS]\n",
    "        \n",
    "        for l_idxA in l_indicesA:\n",
    "            cmA[d_idxA][l_idxA] += 1\n",
    "        \n",
    "        for l_idxE in l_indicesE:\n",
    "            cmE[d_idxE][l_idxE] += 1\n",
    "            \n",
    "        for l_idxS in l_indicesA:\n",
    "            cmS[d_idxS][l_idxS] += 1\n",
    "            \n",
    "        if d_idxA not in l_indicesA:\n",
    "            print(d['id'])\n",
    "        \n",
    "        correctA = correctA + 1 if d_idxA in l_indicesA else correctA\n",
    "        correctE = correctE + 1 if d_idxE in l_indicesE else correctE\n",
    "        correctS = correctS + 1 if d_idxS in l_indicesS else correctS\n",
    "        \n",
    "#     pprint(cmA)\n",
    "#     pprint(cmE)\n",
    "#     pprint(cmS)\n",
    "\n",
    "    return correctA / 390, correctE / 390, correctS / 390"
   ]
  },
  {
   "cell_type": "code",
   "execution_count": 228,
   "metadata": {},
   "outputs": [
    {
     "name": "stdout",
     "output_type": "stream",
     "text": [
      "4059161753539505\n",
      "4022842192155296\n",
      "3906308417819163\n",
      "4230898565609970\n",
      "3670008993717977\n",
      "4170708147859382\n",
      "4136604979135705\n",
      "4079388452755871\n",
      "4229802662028408\n",
      "3955159908365412\n",
      "4095409889100831\n",
      "3786677996271452\n",
      "4106893935333575\n",
      "4149091275267452\n",
      "4221407908748613\n",
      "3663184819022212\n",
      "4123631946721258\n",
      "3848972026478415\n",
      "4112104343138661\n",
      "4080949546864041\n",
      "4205840107796224\n",
      "4211405613394373\n",
      "3849312264071011\n",
      "4207453434212744\n",
      "3626843729416100\n",
      "4232672933535868\n",
      "4091277618515823\n",
      "3622094619700594\n",
      "4049755295968214\n",
      "4231853198745520\n",
      "4013401988125952\n",
      "4167377174031311\n",
      "4157278477060400\n",
      "3864503135524202\n",
      "3952324063474435\n",
      "4224817022759822\n",
      "4230955466585544\n",
      "4220489154580263\n",
      "4165579365808192\n",
      "3825046810242194\n",
      "4136292722007598\n",
      "3804383832045677\n",
      "3777859678345451\n",
      "4016731338518342\n",
      "3970715911227972\n",
      "3652824510840990\n",
      "4217894759777453\n",
      "3836924639066650\n",
      "3834873678442069\n",
      "3748873702923912\n",
      "4181918142457583\n",
      "3789435626027083\n",
      "3944768482398385\n",
      "4226565858151376\n",
      "3997616767822908\n",
      "3675432954483271\n",
      "4228706065049719\n",
      "3994233775579414\n",
      "3470299011884270\n",
      "4060892825611272\n",
      "4233014013184785\n",
      "3934038866111310\n",
      "3960978451862307\n",
      "4161593627147752\n",
      "4087734228359701\n",
      "4150854766192838\n",
      "4010160806597846\n",
      "4161227054180203\n",
      "3963799520100392\n",
      "3852499775581683\n",
      "4023975133293673\n",
      "4060344370495074\n",
      "3693540296984662\n",
      "4036618400102210\n",
      "3908762395567282\n",
      "3542788094283808\n",
      "4025421198056599\n",
      "3692116154571619\n",
      "3651119785852764\n",
      "4196951656464431\n",
      "3834765063477357\n",
      "4216703431016880\n",
      "3844978478666551\n",
      "3481107607724044\n",
      "3828681900092062\n",
      "3842394007272991\n",
      "4135738960691360\n",
      "4024994788689457\n",
      "4186043324971365\n",
      "4069326380859083\n",
      "3700679681716136\n",
      "4152973095423456\n",
      "3821851400815019\n",
      "3889562927448972\n",
      "3831890622907617\n",
      "4169932062654032\n",
      "4003013213425389\n",
      "4209043075126767\n",
      "4121001149457182\n",
      "4211647629995019\n",
      "3808493813609326\n",
      "4218660354577596\n",
      "3731951007942910\n",
      "4122503367901593\n",
      "3781995669035951\n",
      "4067409395148603\n",
      "3694970856480973\n",
      "4124823380940810\n",
      "4063110543890623\n",
      "3919715665593500\n",
      "3565502322784134\n",
      "3623620879872634\n",
      "3560820204458802\n",
      "3819185371067771\n",
      "3816716712731131\n",
      "3877928359740635\n",
      "4066926596825429\n",
      "3606797308873935\n",
      "3846732570022169\n",
      "3802161144120242\n",
      "3803204347402459\n",
      "3964108556098134\n",
      "4221836747009055\n",
      "4229359679682406\n",
      "3714971823289665\n",
      "4221038969605399\n",
      "3887345914888849\n",
      "4147106442462009\n",
      "3829843001137483\n",
      "3825728733291292\n",
      "3536694176921874\n",
      "3760046301088017\n",
      "3828048560362320\n"
     ]
    },
    {
     "data": {
      "text/plain": [
       "(0.658974358974359, 0.658974358974359, 0.7282051282051282)"
      ]
     },
     "execution_count": 228,
     "metadata": {},
     "output_type": "execute_result"
    }
   ],
   "source": [
    "DQACC(data, label)"
   ]
  },
  {
   "cell_type": "code",
   "execution_count": 229,
   "metadata": {},
   "outputs": [
    {
     "name": "stdout",
     "output_type": "stream",
     "text": [
      "4022842192155296\n",
      "3906308417819163\n",
      "3670008993717977\n",
      "4170708147859382\n",
      "4136604979135705\n",
      "4229802662028408\n",
      "3955159908365412\n",
      "4095409889100831\n",
      "3926256229298112\n",
      "3786677996271452\n",
      "4106893935333575\n",
      "4221407908748613\n",
      "3663184819022212\n",
      "3848972026478415\n",
      "4112104343138661\n",
      "4080949546864041\n",
      "3980067338393709\n",
      "4211405613394373\n",
      "3849312264071011\n",
      "3972229676995092\n",
      "4207453434212744\n",
      "3626843729416100\n",
      "4091277618515823\n",
      "3622094619700594\n",
      "4049755295968214\n",
      "4231853198745520\n",
      "4013401988125952\n",
      "4167377174031311\n",
      "4157278477060400\n",
      "4224817022759822\n",
      "4230955466585544\n",
      "4220489154580263\n",
      "4165579365808192\n",
      "3590332534845032\n",
      "3825046810242194\n",
      "4136292722007598\n",
      "3453944166480384\n",
      "3777859678345451\n",
      "4156229766374281\n",
      "3652824510840990\n",
      "4094209810335722\n",
      "4217894759777453\n",
      "3836924639066650\n",
      "3623635279875356\n",
      "3834873678442069\n",
      "3789435626027083\n",
      "3944768482398385\n",
      "4226565858151376\n",
      "3997616767822908\n",
      "4232678481350000\n",
      "3889986434893062\n",
      "4228706065049719\n",
      "3994233775579414\n",
      "3470299011884270\n",
      "4004885068113649\n",
      "3787426159483132\n",
      "4060892825611272\n",
      "3938125489261217\n",
      "4233014013184785\n",
      "3934038866111310\n",
      "3960978451862307\n",
      "4087734228359701\n",
      "4010160806597846\n",
      "3963799520100392\n",
      "4023975133293673\n",
      "4060344370495074\n",
      "4054304291433421\n",
      "3693540296984662\n",
      "4036618400102210\n",
      "4228304828908755\n",
      "3908762395567282\n",
      "3542788094283808\n",
      "4196951656464431\n",
      "4216703431016880\n",
      "3481107607724044\n",
      "3842394007272991\n",
      "4186043324971365\n",
      "3700679681716136\n",
      "4152973095423456\n",
      "3821851400815019\n",
      "3831890622907617\n",
      "4169932062654032\n",
      "4003013213425389\n",
      "4209043075126767\n",
      "4121001149457182\n",
      "3907246868089806\n",
      "3731951007942910\n",
      "3781995669035951\n",
      "4063110543890623\n",
      "3919715665593500\n",
      "3565502322784134\n",
      "3623620879872634\n",
      "3816716712731131\n",
      "4223723919491143\n",
      "3877928359740635\n",
      "4066926596825429\n",
      "3606797308873935\n",
      "4166675223883067\n",
      "3802161144120242\n",
      "3803204347402459\n",
      "3964108556098134\n",
      "4221836747009055\n",
      "4229359679682406\n",
      "3714971823289665\n",
      "3846279144682764\n",
      "3862603493152246\n",
      "4147106442462009\n",
      "3829843001137483\n",
      "3512239052883466\n",
      "3476768847913440\n",
      "3825728733291292\n",
      "3536694176921874\n",
      "3828048560362320\n"
     ]
    },
    {
     "data": {
      "text/plain": [
       "(0.7102564102564103, 0.6615384615384615, 0.7769230769230769)"
      ]
     },
     "execution_count": 229,
     "metadata": {},
     "output_type": "execute_result"
    }
   ],
   "source": [
    "DQACC(data2, label)"
   ]
  },
  {
   "cell_type": "code",
   "execution_count": 196,
   "metadata": {},
   "outputs": [
    {
     "ename": "SyntaxError",
     "evalue": "invalid syntax (<ipython-input-196-b07dd2347f46>, line 1)",
     "output_type": "error",
     "traceback": [
      "\u001b[0;36m  File \u001b[0;32m\"<ipython-input-196-b07dd2347f46>\"\u001b[0;36m, line \u001b[0;32m1\u001b[0m\n\u001b[0;31m    4079542001558440: Bert對，w2v不對\u001b[0m\n\u001b[0m                    ^\u001b[0m\n\u001b[0;31mSyntaxError\u001b[0m\u001b[0;31m:\u001b[0m invalid syntax\n"
     ]
    }
   ],
   "source": [
    "4079542001558440: Bert對，w2v不對\n",
    "3718912216646049: 都錯"
   ]
  },
  {
   "cell_type": "code",
   "execution_count": 241,
   "metadata": {},
   "outputs": [
    {
     "name": "stdout",
     "output_type": "stream",
     "text": [
      "[{'utterances': ['| When the cellphone USB with type c interface is inserted into M1L, why is there no display... Does it need the operation of other USB debugging? @ Smartisan @Smartisan Customer Service|| Huainan · Jindi...|'], 'sender': 'customer'}, {'utterances': [\"H Hello! M1L cellphone doesn’t support OTG function. The charging interface can't recognize external equipment.\"], 'sender': 'helpdesk'}, {'utterances': ['Are all Smartisan cellphones not suitable for OTG external memory function ... How about the cellphones released newly?'], 'sender': 'customer'}, {'utterances': ['H Smartisan Pro and Smartisan Pro 2 both support OTG function. If you are urgent to use the data in the USB, you are suggested to export the data to the computer and then copy it to the cellphone.'], 'sender': 'helpdesk'}, {'utterances': ['OK, Thank you!.'], 'sender': 'customer'}]\n",
      "[0.0443945266, 0.01495077, 0.0858940631, 0.4301918149, 0.4245687425]\n",
      "[0.0259245094, 0.0221765321, 0.0747838169, 0.4130394757, 0.4640755951]\n",
      "[0.0, 0.10526315789473684, 0.05263157894736842, 0.3684210526315789, 0.47368421052631576]\n",
      "\n"
     ]
    }
   ],
   "source": [
    "# Error analysis check\n",
    "# 3965041341078954\n",
    "# BERT: 對，整個distribution幾乎一樣\n",
    "# W2V : 對，只有最高分精準\n",
    "\n",
    "\n",
    "# 4022842192155296\n",
    "# BERT: 錯，但只錯一點\n",
    "# W2V : 錯，而且錯很多\n",
    "\n",
    "# 4149091275267452\n",
    "# BERT:錯\n",
    "# W2V :對\n",
    "for d, d2, l in zip(data, data2, label):\n",
    "    if l['id'] == '4221038969605399':\n",
    "#     if l['id'] == '4022842192155296':\n",
    "        print(l['turns'])\n",
    "        dA, dE, dS = _toList(d['quality']['A']), _toList(d['quality']['E']), _toList(d['quality']['S'])\n",
    "        d2A, d2E, d2S = _toList(d2['quality']['A']), _toList(d2['quality']['E']), _toList(d2['quality']['S'])\n",
    "        lA, lE, lS = label_preprocess(l)\n",
    "        print(dA)\n",
    "        print(d2A)\n",
    "        print(lA)\n",
    "        print()"
   ]
  },
  {
   "cell_type": "code",
   "execution_count": 242,
   "metadata": {},
   "outputs": [
    {
     "data": {
      "text/plain": [
       "0.038020796146660839"
      ]
     },
     "execution_count": 242,
     "metadata": {},
     "output_type": "execute_result"
    }
   ],
   "source": [
    "nmd([0.0443945266, 0.01495077, 0.0858940631, 0.4301918149, 0.4245687425], \n",
    "    [0.0, 0.10526315789473684, 0.05263157894736842, 0.3684210526315789, 0.47368421052631576])"
   ]
  },
  {
   "cell_type": "code",
   "execution_count": 243,
   "metadata": {},
   "outputs": [
    {
     "data": {
      "text/plain": [
       "0.031926269134064073"
      ]
     },
     "execution_count": 243,
     "metadata": {},
     "output_type": "execute_result"
    }
   ],
   "source": [
    "nmd([0.0259245094, 0.0221765321, 0.0747838169, 0.4130394757, 0.4640755951], \n",
    "    [0.0, 0.10526315789473684, 0.05263157894736842, 0.3684210526315789, 0.47368421052631576])"
   ]
  },
  {
   "cell_type": "code",
   "execution_count": null,
   "metadata": {},
   "outputs": [],
   "source": []
  }
 ],
 "metadata": {
  "kernelspec": {
   "display_name": "Python 3",
   "language": "python",
   "name": "python3"
  },
  "language_info": {
   "codemirror_mode": {
    "name": "ipython",
    "version": 3
   },
   "file_extension": ".py",
   "mimetype": "text/x-python",
   "name": "python",
   "nbconvert_exporter": "python",
   "pygments_lexer": "ipython3",
   "version": "3.5.2"
  }
 },
 "nbformat": 4,
 "nbformat_minor": 2
}
