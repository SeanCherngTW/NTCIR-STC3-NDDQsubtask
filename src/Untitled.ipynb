{
 "cells": [
  {
   "cell_type": "code",
   "execution_count": 2,
   "metadata": {},
   "outputs": [],
   "source": [
    "a = 'aaaaa'"
   ]
  },
  {
   "cell_type": "code",
   "execution_count": 35,
   "metadata": {},
   "outputs": [],
   "source": [
    "import pickle\n",
    "t = pickle.load(open('PickleCorpus/train_corpus.p', 'rb'))\n",
    "dev = pickle.load(open('PickleCorpus/dev_corpus.p', 'rb'))"
   ]
  },
  {
   "cell_type": "code",
   "execution_count": 6,
   "metadata": {},
   "outputs": [
    {
     "name": "stdout",
     "output_type": "stream",
     "text": [
      "Counter({'HNUG': 0.47368421052631576,\n",
      "         'HNaN': 0.47368421052631576,\n",
      "         'HNUG*': 0.05263157894736842})\n",
      "\n",
      "Counter({'HNUG': 0.47368421052631576,\n",
      "         'HNUG*': 0.47368421052631576,\n",
      "         'HNaN': 0.05263157894736842})\n",
      "\n",
      "Counter({'CNUG': 0.47368421052631576,\n",
      "         'CNaN': 0.47368421052631576,\n",
      "         'CNUG*': 0.05263157894736842})\n",
      "\n",
      "Counter({'CNUG': 0.47368421052631576,\n",
      "         'CNaN': 0.47368421052631576,\n",
      "         'CNUG*': 0.05263157894736842})\n",
      "\n",
      "Counter({'HNUG': 0.47368421052631576,\n",
      "         'HNUG*': 0.47368421052631576,\n",
      "         'HNaN': 0.05263157894736842})\n",
      "\n",
      "Counter({'HNUG': 0.47368421052631576,\n",
      "         'HNUG*': 0.47368421052631576,\n",
      "         'HNaN': 0.05263157894736842})\n",
      "\n",
      "Counter({'HNUG': 0.47368421052631576,\n",
      "         'HNaN': 0.47368421052631576,\n",
      "         'HNUG*': 0.05263157894736842})\n",
      "\n",
      "Counter({'CNUG': 0.47368421052631576,\n",
      "         'CNaN': 0.47368421052631576,\n",
      "         'CNUG*': 0.05263157894736842})\n",
      "\n",
      "Counter({'CNUG': 0.47368421052631576,\n",
      "         'CNaN': 0.47368421052631576,\n",
      "         'CNUG*': 0.05263157894736842})\n",
      "\n",
      "Counter({'CNUG0': 0.47368421052631576,\n",
      "         'CNaN': 0.47368421052631576,\n",
      "         'CNUG': 0.05263157894736842})\n",
      "\n",
      "Counter({'CNUG': 0.47368421052631576,\n",
      "         'CNaN': 0.47368421052631576,\n",
      "         'CNUG0': 0.05263157894736842})\n",
      "\n",
      "Counter({'HNUG': 0.47368421052631576,\n",
      "         'HNaN': 0.47368421052631576,\n",
      "         'HNUG*': 0.05263157894736842})\n",
      "\n",
      "Counter({'HNUG': 0.47368421052631576,\n",
      "         'HNUG*': 0.47368421052631576,\n",
      "         'HNaN': 0.05263157894736842})\n",
      "\n",
      "Counter({'HNUG': 0.47368421052631576,\n",
      "         'HNaN': 0.47368421052631576,\n",
      "         'HNUG*': 0.05263157894736842})\n",
      "\n",
      "Counter({'CNUG': 0.47368421052631576,\n",
      "         'CNaN': 0.47368421052631576,\n",
      "         'CNUG*': 0.05263157894736842})\n",
      "\n",
      "Counter({'CNUG': 0.47368421052631576,\n",
      "         'CNaN': 0.47368421052631576,\n",
      "         'CNUG0': 0.05263157894736842})\n",
      "\n",
      "Counter({'CNUG': 0.47368421052631576,\n",
      "         'CNaN': 0.47368421052631576,\n",
      "         'CNUG*': 0.05263157894736842})\n",
      "\n",
      "Counter({'CNUG': 0.47368421052631576,\n",
      "         'CNaN': 0.47368421052631576,\n",
      "         'CNUG0': 0.05263157894736842})\n",
      "\n",
      "Counter({'CNUG': 0.47368421052631576,\n",
      "         'CNaN': 0.47368421052631576,\n",
      "         'CNUG*': 0.05263157894736842})\n",
      "\n",
      "Counter({'HNUG': 0.47368421052631576,\n",
      "         'HNaN': 0.47368421052631576,\n",
      "         'HNUG*': 0.05263157894736842})\n",
      "\n",
      "Counter({'HNUG': 0.47368421052631576,\n",
      "         'HNUG*': 0.47368421052631576,\n",
      "         'HNaN': 0.05263157894736842})\n",
      "\n",
      "Counter({'HNUG': 0.47368421052631576,\n",
      "         'HNUG*': 0.47368421052631576,\n",
      "         'HNaN': 0.05263157894736842})\n",
      "\n",
      "Counter({'HNUG': 0.47368421052631576,\n",
      "         'HNaN': 0.47368421052631576,\n",
      "         'HNUG*': 0.05263157894736842})\n",
      "\n",
      "Counter({'HNUG': 0.47368421052631576,\n",
      "         'HNaN': 0.47368421052631576,\n",
      "         'HNUG*': 0.05263157894736842})\n",
      "\n",
      "Counter({'HNUG': 0.47368421052631576,\n",
      "         'HNUG*': 0.47368421052631576,\n",
      "         'HNaN': 0.05263157894736842})\n",
      "\n",
      "Counter({'CNUG': 0.47368421052631576,\n",
      "         'CNaN': 0.47368421052631576,\n",
      "         'CNUG*': 0.05263157894736842})\n",
      "\n",
      "Counter({'CNUG': 0.47368421052631576,\n",
      "         'CNUG*': 0.47368421052631576,\n",
      "         'CNaN': 0.05263157894736842})\n",
      "\n",
      "Counter({'HNUG': 0.47368421052631576,\n",
      "         'HNaN': 0.47368421052631576,\n",
      "         'HNUG*': 0.05263157894736842})\n",
      "\n",
      "Counter({'HNUG': 0.47368421052631576,\n",
      "         'HNUG*': 0.47368421052631576,\n",
      "         'HNaN': 0.05263157894736842})\n",
      "\n",
      "Counter({'CNUG0': 0.47368421052631576,\n",
      "         'CNaN': 0.47368421052631576,\n",
      "         'CNUG': 0.05263157894736842})\n",
      "\n",
      "Counter({'HNUG': 0.47368421052631576,\n",
      "         'HNUG*': 0.47368421052631576,\n",
      "         'HNaN': 0.05263157894736842})\n",
      "\n",
      "Counter({'CNUG': 0.47368421052631576,\n",
      "         'CNaN': 0.47368421052631576,\n",
      "         'CNUG*': 0.05263157894736842})\n",
      "\n",
      "Counter({'HNUG': 0.47368421052631576,\n",
      "         'HNaN': 0.47368421052631576,\n",
      "         'HNUG*': 0.05263157894736842})\n",
      "\n",
      "Counter({'HNUG': 0.47368421052631576,\n",
      "         'HNaN': 0.47368421052631576,\n",
      "         'HNUG*': 0.05263157894736842})\n",
      "\n",
      "Counter({'HNUG': 0.47368421052631576,\n",
      "         'HNUG*': 0.47368421052631576,\n",
      "         'HNaN': 0.05263157894736842})\n",
      "\n",
      "Counter({'CNUG': 0.47368421052631576,\n",
      "         'CNaN': 0.47368421052631576,\n",
      "         'CNUG0': 0.05263157894736842})\n",
      "\n",
      "Counter({'HNUG': 0.47368421052631576,\n",
      "         'HNaN': 0.47368421052631576,\n",
      "         'HNUG*': 0.05263157894736842})\n",
      "\n",
      "Counter({'HNUG': 0.47368421052631576,\n",
      "         'HNUG*': 0.47368421052631576,\n",
      "         'HNaN': 0.05263157894736842})\n",
      "\n",
      "Counter({'HNUG': 0.47368421052631576,\n",
      "         'HNaN': 0.47368421052631576,\n",
      "         'HNUG*': 0.05263157894736842})\n",
      "\n",
      "Counter({'HNUG': 0.47368421052631576,\n",
      "         'HNaN': 0.47368421052631576,\n",
      "         'HNUG*': 0.05263157894736842})\n",
      "\n",
      "Counter({'HNUG': 0.47368421052631576,\n",
      "         'HNaN': 0.47368421052631576,\n",
      "         'HNUG*': 0.05263157894736842})\n",
      "\n",
      "Counter({'HNUG': 0.47368421052631576,\n",
      "         'HNUG*': 0.47368421052631576,\n",
      "         'HNaN': 0.05263157894736842})\n",
      "\n",
      "Counter({'HNUG': 0.47368421052631576,\n",
      "         'HNaN': 0.47368421052631576,\n",
      "         'HNUG*': 0.05263157894736842})\n",
      "\n",
      "Counter({'HNUG': 0.47368421052631576,\n",
      "         'HNaN': 0.47368421052631576,\n",
      "         'HNUG*': 0.05263157894736842})\n",
      "\n",
      "Counter({'HNUG': 0.47368421052631576,\n",
      "         'HNUG*': 0.47368421052631576,\n",
      "         'HNaN': 0.05263157894736842})\n",
      "\n",
      "Counter({'CNUG0': 0.47368421052631576,\n",
      "         'CNaN': 0.47368421052631576,\n",
      "         'CNUG': 0.05263157894736842})\n",
      "\n",
      "Counter({'HNUG': 0.47368421052631576,\n",
      "         'HNaN': 0.47368421052631576,\n",
      "         'HNUG*': 0.05263157894736842})\n",
      "\n",
      "Counter({'HNUG': 0.47368421052631576,\n",
      "         'HNUG*': 0.47368421052631576,\n",
      "         'HNaN': 0.05263157894736842})\n",
      "\n",
      "Counter({'HNUG': 0.47368421052631576,\n",
      "         'HNaN': 0.47368421052631576,\n",
      "         'HNUG*': 0.05263157894736842})\n",
      "\n",
      "Counter({'HNUG': 0.47368421052631576,\n",
      "         'HNaN': 0.47368421052631576,\n",
      "         'HNUG*': 0.05263157894736842})\n",
      "\n",
      "Counter({'HNUG': 0.47368421052631576,\n",
      "         'HNUG*': 0.47368421052631576,\n",
      "         'HNaN': 0.05263157894736842})\n",
      "\n",
      "Counter({'HNUG': 0.47368421052631576,\n",
      "         'HNUG*': 0.47368421052631576,\n",
      "         'HNaN': 0.05263157894736842})\n",
      "\n",
      "Counter({'HNUG': 0.47368421052631576,\n",
      "         'HNaN': 0.47368421052631576,\n",
      "         'HNUG*': 0.05263157894736842})\n",
      "\n",
      "Counter({'CNUG': 0.47368421052631576,\n",
      "         'CNaN': 0.47368421052631576,\n",
      "         'CNUG0': 0.05263157894736842})\n",
      "\n",
      "Counter({'CNUG': 0.47368421052631576,\n",
      "         'CNaN': 0.47368421052631576,\n",
      "         'CNUG*': 0.05263157894736842})\n",
      "\n",
      "Counter({'HNUG': 0.47368421052631576,\n",
      "         'HNUG*': 0.47368421052631576,\n",
      "         'HNaN': 0.05263157894736842})\n",
      "\n",
      "Counter({'HNUG': 0.47368421052631576,\n",
      "         'HNaN': 0.47368421052631576,\n",
      "         'HNUG*': 0.05263157894736842})\n",
      "\n",
      "Counter({'CNUG0': 0.47368421052631576,\n",
      "         'CNaN': 0.47368421052631576,\n",
      "         'CNUG': 0.05263157894736842})\n",
      "\n",
      "Counter({'HNUG': 0.47368421052631576,\n",
      "         'HNaN': 0.47368421052631576,\n",
      "         'HNUG*': 0.05263157894736842})\n",
      "\n",
      "Counter({'CNUG': 0.47368421052631576,\n",
      "         'CNaN': 0.47368421052631576,\n",
      "         'CNUG0': 0.05263157894736842})\n",
      "\n",
      "Counter({'HNUG': 0.47368421052631576,\n",
      "         'HNaN': 0.47368421052631576,\n",
      "         'HNUG*': 0.05263157894736842})\n",
      "\n",
      "Counter({'CNUG': 0.47368421052631576,\n",
      "         'CNUG*': 0.47368421052631576,\n",
      "         'CNaN': 0.05263157894736842})\n",
      "\n",
      "Counter({'HNUG': 0.47368421052631576,\n",
      "         'HNaN': 0.47368421052631576,\n",
      "         'HNUG*': 0.05263157894736842})\n",
      "\n",
      "Counter({'HNUG': 0.47368421052631576,\n",
      "         'HNaN': 0.47368421052631576,\n",
      "         'HNUG*': 0.05263157894736842})\n",
      "\n",
      "Counter({'CNUG': 0.47368421052631576,\n",
      "         'CNaN': 0.47368421052631576,\n",
      "         'CNUG0': 0.05263157894736842})\n",
      "\n",
      "Counter({'HNUG': 0.47368421052631576,\n",
      "         'HNaN': 0.47368421052631576,\n",
      "         'HNUG*': 0.05263157894736842})\n",
      "\n",
      "Counter({'HNUG': 0.47368421052631576,\n",
      "         'HNUG*': 0.47368421052631576,\n",
      "         'HNaN': 0.05263157894736842})\n",
      "\n",
      "Counter({'CNUG': 0.47368421052631576,\n",
      "         'CNUG*': 0.47368421052631576,\n",
      "         'CNaN': 0.05263157894736842})\n",
      "\n",
      "Counter({'CNUG': 0.47368421052631576,\n",
      "         'CNaN': 0.47368421052631576,\n",
      "         'CNUG0': 0.05263157894736842})\n",
      "\n",
      "Counter({'HNUG': 0.47368421052631576,\n",
      "         'HNaN': 0.47368421052631576,\n",
      "         'HNUG*': 0.05263157894736842})\n",
      "\n",
      "Counter({'HNUG': 0.47368421052631576,\n",
      "         'HNaN': 0.47368421052631576,\n",
      "         'HNUG*': 0.05263157894736842})\n",
      "\n",
      "Counter({'HNUG': 0.47368421052631576,\n",
      "         'HNaN': 0.47368421052631576,\n",
      "         'HNUG*': 0.05263157894736842})\n",
      "\n",
      "Counter({'CNUG': 0.47368421052631576,\n",
      "         'CNaN': 0.47368421052631576,\n",
      "         'CNUG*': 0.05263157894736842})\n",
      "\n",
      "Counter({'HNUG': 0.47368421052631576,\n",
      "         'HNaN': 0.47368421052631576,\n",
      "         'HNUG*': 0.05263157894736842})\n",
      "\n",
      "Counter({'HNUG': 0.47368421052631576,\n",
      "         'HNaN': 0.47368421052631576,\n",
      "         'HNUG*': 0.05263157894736842})\n",
      "\n",
      "Counter({'HNUG': 0.47368421052631576,\n",
      "         'HNUG*': 0.47368421052631576,\n",
      "         'HNaN': 0.05263157894736842})\n",
      "\n"
     ]
    }
   ],
   "source": [
    "from pprint import pprint\n",
    "for _id, turn, corpus, nugget, quality in t:\n",
    "    for i in range(len(nugget)):\n",
    "        if list(nugget[i].values()).count(0.47368421052631576) > 1:\n",
    "#             if i-1 > 0:\n",
    "#                 print(\"PRE: \", corpus[i-1])\n",
    "#             print(\"CUR: \", corpus[i])\n",
    "#             if i+1 < len(nugget):\n",
    "#                 print(\"NEXT: \", corpus[i+1])\n",
    "#             print(corpus)\n",
    "            pprint(nugget)\n",
    "            print()"
   ]
  },
  {
   "cell_type": "code",
   "execution_count": 46,
   "metadata": {},
   "outputs": [],
   "source": [
    "train_turns=0\n",
    "for i in range(len(t)):\n",
    "    train_turns += len(t[i][1])\n",
    "    \n",
    "dev_turns=0\n",
    "for i in range(len(dev)):\n",
    "    dev_turns += len(dev[i][1])"
   ]
  },
  {
   "cell_type": "code",
   "execution_count": 48,
   "metadata": {},
   "outputs": [
    {
     "data": {
      "text/plain": [
       "(5601, 1316)"
      ]
     },
     "execution_count": 48,
     "metadata": {},
     "output_type": "execute_result"
    }
   ],
   "source": [
    "total_turns, dev_turns"
   ]
  },
  {
   "cell_type": "code",
   "execution_count": 56,
   "metadata": {},
   "outputs": [
    {
     "name": "stdout",
     "output_type": "stream",
     "text": [
      "Run\n",
      "Run\n",
      "('CNUG0', 'CNaN') 0.696 1508 0.22\n",
      "('HNUG', 'HNUG*') 0.307  865 0.13\n",
      "('CNUG', 'CNUG*') 0.348  232 0.03\n",
      "('HNUG', 'HNaN') 0.401 2220 0.32\n",
      "('CNUG*', 'CNaN') 0.339   36 0.01\n",
      "('CNUG*', 'CNUG0') 0.842   13 0.00\n",
      "('HNUG*', 'HNaN') 0.118    8 0.00\n",
      "('CNUG', 'CNaN') 0.455 1793 0.26\n",
      "('CNUG', 'CNUG0') 0.731  242 0.03\n"
     ]
    }
   ],
   "source": [
    "from pprint import pprint\n",
    "from collections import defaultdict\n",
    "pair_prob = defaultdict(int)\n",
    "pair_count = defaultdict(int)\n",
    "for data in [t, dev]:\n",
    "    print('Run')\n",
    "    for _id, turn, corpus, nugget, quality in data:\n",
    "        for i in range(len(nugget)):\n",
    "            top1_k, top1_v = nugget[i].most_common()[0]\n",
    "            top2_k, top2_v = nugget[i].most_common()[1]\n",
    "            pair_key = tuple(sorted([top1_k, top2_k]))\n",
    "            pair_prob[pair_key] += abs(top1_v - top2_v)\n",
    "            pair_count[pair_key] += 1\n",
    "            \n",
    "#     print(sum(pair_count.values()))\n",
    "#     assert sum(pair_count.values()) == total_turns, sum(pair_count.values())\n",
    "\n",
    "for prob_k, prob_v in pair_prob.items():\n",
    "    for count_k, count_v in pair_count.items():\n",
    "        if prob_k == count_k:\n",
    "            print(prob_k, '{:.3f}'.format(prob_v / count_v), '{:4d}'.format(count_v), '{:.2f}'.format(count_v/6917))"
   ]
  },
  {
   "cell_type": "code",
   "execution_count": 28,
   "metadata": {},
   "outputs": [
    {
     "data": {
      "text/plain": [
       "66.21052631578955"
      ]
     },
     "execution_count": 28,
     "metadata": {},
     "output_type": "execute_result"
    }
   ],
   "source": [
    "pair_prob[('CNUG', 'CNUG*')]"
   ]
  },
  {
   "cell_type": "code",
   "execution_count": 10,
   "metadata": {},
   "outputs": [
    {
     "data": {
      "text/plain": [
       "('3760162390685790',\n",
       " ['customer', 'helpdesk', 'customer', 'helpdesk', 'customer', 'helpdesk'],\n",
       " [\"I apply for upgrading the China Unicom fiber network today. The installation personnel told me that he is available tomorrow afternoon or on the morning of October 4. If I choose the second date, Internet will be down from October 1 to the morning of October 4. But I won't be home tomorrow afternoon. I didn't get any heads-up about disconnected Internet and I got different replies from different customer service staffs. @China Unicom Shanghai @China Unicom Customer Service Shanghai Are you trying to make me switch to another mobile phone carrier?\",\n",
       "  'We are sorry for any inconvenience. Is the broadband for personal use or for the company?',\n",
       "  'It is home broadband. Let me get this straight: Either I get the broadband installed next morning on October 4 or the ADSL broadband service cannot be disabled.',\n",
       "  'Could you please message us your ADSL ID and your ID for checkup?',\n",
       "  'The issue has been resolved. Thanks!',\n",
       "  'You are welcome. We are always at your service.'],\n",
       " [Counter({'CNUG0': 0.8947368421052632, 'CNaN': 0.10526315789473684}),\n",
       "  Counter({'HNUG': 0.8947368421052632, 'HNaN': 0.10526315789473684}),\n",
       "  Counter({'CNUG': 0.8947368421052632, 'CNaN': 0.10526315789473684}),\n",
       "  Counter({'HNUG': 0.47368421052631576,\n",
       "           'HNUG*': 0.3684210526315789,\n",
       "           'HNaN': 0.15789473684210525}),\n",
       "  Counter({'CNUG': 0.2631578947368421,\n",
       "           'CNUG*': 0.631578947368421,\n",
       "           'CNaN': 0.10526315789473684}),\n",
       "  Counter({'HNUG': 0.3157894736842105,\n",
       "           'HNUG*': 0.05263157894736842,\n",
       "           'HNaN': 0.631578947368421})],\n",
       " {'A': [0.10526315789473684,\n",
       "   0.05263157894736842,\n",
       "   0.05263157894736842,\n",
       "   0.2631578947368421,\n",
       "   0.5263157894736842],\n",
       "  'E': [0.05263157894736842,\n",
       "   0.0,\n",
       "   0.10526315789473684,\n",
       "   0.47368421052631576,\n",
       "   0.3684210526315789],\n",
       "  'S': [0.0,\n",
       "   0.10526315789473684,\n",
       "   0.10526315789473684,\n",
       "   0.3157894736842105,\n",
       "   0.47368421052631576]})"
      ]
     },
     "execution_count": 10,
     "metadata": {},
     "output_type": "execute_result"
    }
   ],
   "source": [
    "t[0]"
   ]
  },
  {
   "cell_type": "code",
   "execution_count": 3,
   "metadata": {},
   "outputs": [
    {
     "data": {
      "text/plain": [
       "'aabaaa'"
      ]
     },
     "execution_count": 3,
     "metadata": {},
     "output_type": "execute_result"
    }
   ],
   "source": [
    "a[:3] + 'b' + a[2:]"
   ]
  },
  {
   "cell_type": "code",
   "execution_count": 4,
   "metadata": {},
   "outputs": [],
   "source": [
    "A = 5\n",
    "B = 3"
   ]
  },
  {
   "cell_type": "code",
   "execution_count": 7,
   "metadata": {},
   "outputs": [],
   "source": [
    "ans = 'a' * A\n",
    "i = 2\n",
    "while B > 0:\n",
    "    ans = ans[:i] + 'b' + ans[i:]\n",
    "    i += 3\n",
    "    B -= 1"
   ]
  },
  {
   "cell_type": "code",
   "execution_count": 8,
   "metadata": {},
   "outputs": [
    {
     "data": {
      "text/plain": [
       "'aabaabab'"
      ]
     },
     "execution_count": 8,
     "metadata": {},
     "output_type": "execute_result"
    }
   ],
   "source": [
    "ans"
   ]
  },
  {
   "cell_type": "code",
   "execution_count": 18,
   "metadata": {},
   "outputs": [
    {
     "name": "stdout",
     "output_type": "stream",
     "text": [
      "abaa\n",
      "ababa\n",
      "ababab\n"
     ]
    }
   ],
   "source": [
    "A=3\n",
    "B=3\n",
    "ans = 'a' * A\n",
    "i=0\n",
    "while B > 0:\n",
    "    if A - B < 1:\n",
    "        i += 1\n",
    "        ans = ans[:i] + 'b' + ans[i:]\n",
    "        A -= 1\n",
    "        B -= 1\n",
    "        i += 1\n",
    "        print(ans)"
   ]
  },
  {
   "cell_type": "code",
   "execution_count": 17,
   "metadata": {},
   "outputs": [
    {
     "data": {
      "text/plain": [
       "'aababb'"
      ]
     },
     "execution_count": 17,
     "metadata": {},
     "output_type": "execute_result"
    }
   ],
   "source": [
    "ans"
   ]
  },
  {
   "cell_type": "code",
   "execution_count": null,
   "metadata": {},
   "outputs": [],
   "source": []
  },
  {
   "cell_type": "code",
   "execution_count": null,
   "metadata": {},
   "outputs": [],
   "source": []
  },
  {
   "cell_type": "code",
   "execution_count": null,
   "metadata": {},
   "outputs": [],
   "source": []
  },
  {
   "cell_type": "code",
   "execution_count": 20,
   "metadata": {},
   "outputs": [],
   "source": [
    "ranks = [1,0,0,1,0,1,2,3,3,3,4,5,6,7,7,1,1]\n",
    "ranks_dict = dict()\n",
    "for rank in ranks:\n",
    "    ranks_dict[rank] = ranks_dict.get(rank, 0)"
   ]
  },
  {
   "cell_type": "code",
   "execution_count": 21,
   "metadata": {},
   "outputs": [
    {
     "data": {
      "text/plain": [
       "{0: 0, 1: 0, 2: 0, 3: 0, 4: 0, 5: 0, 6: 0, 7: 0}"
      ]
     },
     "execution_count": 21,
     "metadata": {},
     "output_type": "execute_result"
    }
   ],
   "source": [
    "ranks_dict"
   ]
  },
  {
   "cell_type": "code",
   "execution_count": 24,
   "metadata": {},
   "outputs": [],
   "source": [
    "from collections import Counter"
   ]
  },
  {
   "cell_type": "code",
   "execution_count": 28,
   "metadata": {},
   "outputs": [],
   "source": [
    "ranks = [3, 4, 3, 0, 2, 2, 3, 0, 0] "
   ]
  },
  {
   "cell_type": "code",
   "execution_count": 29,
   "metadata": {},
   "outputs": [
    {
     "data": {
      "text/plain": [
       "Counter({0: 3, 2: 2, 3: 3, 4: 1})"
      ]
     },
     "execution_count": 29,
     "metadata": {},
     "output_type": "execute_result"
    }
   ],
   "source": [
    "Counter(ranks)"
   ]
  },
  {
   "cell_type": "code",
   "execution_count": 38,
   "metadata": {},
   "outputs": [
    {
     "name": "stdout",
     "output_type": "stream",
     "text": [
      "2 2\n",
      "3 3\n"
     ]
    }
   ],
   "source": [
    "ranks = Counter(ranks)\n",
    "ans = 0\n",
    "for rank, num in ranks.items():\n",
    "    if rank + 1 in ranks:\n",
    "        ans += ranks[rank]\n",
    "        print(rank, ranks[rank])"
   ]
  },
  {
   "cell_type": "code",
   "execution_count": 39,
   "metadata": {},
   "outputs": [
    {
     "data": {
      "text/plain": [
       "5"
      ]
     },
     "execution_count": 39,
     "metadata": {},
     "output_type": "execute_result"
    }
   ],
   "source": [
    "ans"
   ]
  },
  {
   "cell_type": "code",
   "execution_count": null,
   "metadata": {},
   "outputs": [],
   "source": []
  },
  {
   "cell_type": "code",
   "execution_count": null,
   "metadata": {},
   "outputs": [],
   "source": []
  },
  {
   "cell_type": "code",
   "execution_count": null,
   "metadata": {},
   "outputs": [],
   "source": []
  },
  {
   "cell_type": "code",
   "execution_count": null,
   "metadata": {},
   "outputs": [],
   "source": []
  },
  {
   "cell_type": "code",
   "execution_count": 88,
   "metadata": {},
   "outputs": [],
   "source": [
    "def length(days):\n",
    "    # How many days to travel\n",
    "    if isinstance(days, int):\n",
    "        return days\n",
    "    else:\n",
    "        return days.count(1)"
   ]
  },
  {
   "cell_type": "code",
   "execution_count": 116,
   "metadata": {},
   "outputs": [],
   "source": [
    "A = [1,2,4,5,7,29,30]\n",
    "A = [1,2,3,4,5,6,7,8,9,10,11,26,27,28,29,30] #21\n",
    "A = [1,8,15,22,30] #10\n",
    "A = [1,7,8,15,22,30] #14\n",
    "A = [1,2,3,4,8,9,10,11,15,16,17,18,27,28,29] #25\n",
    "A = [1,3,5,9,11,13,19,21,23,29,30] #22\n",
    "A = [1,3,5,7,9,11,13,19,21,23,29,30] #23"
   ]
  },
  {
   "cell_type": "code",
   "execution_count": 117,
   "metadata": {},
   "outputs": [],
   "source": [
    "A_onehot = [0] * 31\n",
    "for a in A:\n",
    "    A_onehot[a] = 1"
   ]
  },
  {
   "cell_type": "code",
   "execution_count": 118,
   "metadata": {},
   "outputs": [
    {
     "name": "stdout",
     "output_type": "stream",
     "text": [
      "buy 7d from day 1 to day 7\n",
      "but 1d at day 9\n",
      "but 1d at day 11\n",
      "but 1d at day 13\n",
      "but 1d at day 19\n",
      "but 1d at day 21\n",
      "but 1d at day 23\n",
      "but 1d at day 29\n",
      "but 1d at day 30\n",
      "23\n"
     ]
    }
   ],
   "source": [
    "i = 1\n",
    "cost = 0\n",
    "while i <= 30:\n",
    "    if length(A_onehot[i]):  # Buy a ticket\n",
    "        if length(A_onehot[i:i+7]) > 3: # buy 7d\n",
    "            print('buy 7d from day {} to day {}'.format(i, i+6))\n",
    "            cost += 7\n",
    "            i += 7\n",
    "        else: # buy 1d\n",
    "            print('but 1d at day {}'.format(i))\n",
    "            cost += 2\n",
    "            i += 1\n",
    "    elif A_onehot[i] == 0: # Dont buy anything\n",
    "        i += 1\n",
    "print(min(cost, 25))"
   ]
  },
  {
   "cell_type": "code",
   "execution_count": 68,
   "metadata": {},
   "outputs": [
    {
     "data": {
      "text/plain": [
       "[1, 1, 0, 1, 1, 0, 1]"
      ]
     },
     "execution_count": 68,
     "metadata": {},
     "output_type": "execute_result"
    }
   ],
   "source": [
    "A_onehot[1:1+7]"
   ]
  },
  {
   "cell_type": "code",
   "execution_count": null,
   "metadata": {},
   "outputs": [],
   "source": []
  },
  {
   "cell_type": "code",
   "execution_count": null,
   "metadata": {},
   "outputs": [],
   "source": []
  },
  {
   "cell_type": "code",
   "execution_count": null,
   "metadata": {},
   "outputs": [],
   "source": []
  },
  {
   "cell_type": "code",
   "execution_count": null,
   "metadata": {},
   "outputs": [],
   "source": []
  }
 ],
 "metadata": {
  "kernelspec": {
   "display_name": "Python 3",
   "language": "python",
   "name": "python3"
  },
  "language_info": {
   "codemirror_mode": {
    "name": "ipython",
    "version": 3
   },
   "file_extension": ".py",
   "mimetype": "text/x-python",
   "name": "python",
   "nbconvert_exporter": "python",
   "pygments_lexer": "ipython3",
   "version": "3.5.2"
  }
 },
 "nbformat": 4,
 "nbformat_minor": 2
}
