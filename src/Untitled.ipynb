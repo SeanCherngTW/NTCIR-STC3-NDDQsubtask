{
 "cells": [
  {
   "cell_type": "code",
   "execution_count": 2,
   "metadata": {},
   "outputs": [],
   "source": [
    "a = 'aaaaa'"
   ]
  },
  {
   "cell_type": "code",
   "execution_count": 6,
   "metadata": {},
   "outputs": [],
   "source": [
    "import pickle\n",
    "t = pickle.load(open('PickleCorpus/train_corpus.p', 'rb'))"
   ]
  },
  {
   "cell_type": "code",
   "execution_count": 24,
   "metadata": {},
   "outputs": [
    {
     "name": "stdout",
     "output_type": "stream",
     "text": [
      "PRE:  All right. It's been like this for quite a long time. You'd better check the problem immediately.\n",
      "CUR:  Hi, thank you for your feedback information. I suggest you pay attention to the usage first. Thank you for understanding us. Thank you!\n",
      "Counter({'HNUG': 0.47368421052631576, 'HNaN': 0.47368421052631576, 'HNUG*': 0.05263157894736842})\n",
      "\n",
      "CUR:  Hello. Please confirm whether you've enabled the Privacy Protection function and associated the added fingerprints. A visitor's fingerprint added under Privacy Protection won't be displayed on the fingerprint list in the following directory: Settings > All Settings > Privacy and Security > Fingerprint > Fingerprint Management > Fingerprint List. Even if you disable the Privacy Protection function, the system won't delete the visitor's fingerprint, either. Then, if you try to add the same fingerprint of this visitor under Fingerprint Management, the system will notify that the fingerprint already exists. You need to delete the visitor's fingerprint manually as follows: (1) Choose Settings > Privacy and Security > Security > Privacy Protection. (2) Enter the owner password that is configured under Privacy and Security (If Privacy and Security is disabled, the system will notify that a new password is required.). (3) On the Privacy Protection page, choose Manage Fingerprint > Visitor Fingerprint to delete the fingerprint template that isn't required. Press the fingerprint sensor. Then, the corresponding fingerprint template will be highlighted.\n",
      "NEXT:  I have another question. I installed software in the SD card, but I couldn't find the corresponding icons on the home screen. What's the matter?\n",
      "Counter({'HNUG': 0.47368421052631576, 'HNUG*': 0.47368421052631576, 'HNaN': 0.05263157894736842})\n",
      "\n",
      "PRE:  I'm sorry. We've submitted the problem to related personnel. Someone will call you. Please ensure your mobile phone is reachable.\n",
      "CUR:  Please reply to me as soon as possible. I think OkBuy is worse than Letao. [hehe]\n",
      "NEXT:  Please trust me. [hehe]\n",
      "Counter({'CNUG': 0.47368421052631576, 'CNaN': 0.47368421052631576, 'CNUG*': 0.05263157894736842})\n",
      "\n",
      "PRE:  Please provide the broadband account, service home location, your name, and contact in direct messages to give you feedback. Thanks.\n",
      "CUR:  The network was disconnected just now.\n",
      "Counter({'CNUG': 0.47368421052631576, 'CNaN': 0.47368421052631576, 'CNUG*': 0.05263157894736842})\n",
      "\n",
      "PRE:  Why can't I download the 91 app (in ipa format) on another phone?\n",
      "CUR:  The failed server network might be the reason. You may try again. Meanwhile, you can download the 91 app on computer. (Link) After installation, you can connect your mobile phone to the computer and download the mobile phone version through the function guide.\n",
      "Counter({'HNUG': 0.47368421052631576, 'HNUG*': 0.47368421052631576, 'HNaN': 0.05263157894736842})\n",
      "\n",
      "PRE:  The order number is 1780608850. Thank you!\n",
      "CUR:  Thank you for provide the information. We've received it. Please be assured that we will report this to our supervisor and call you later. Thank you! Good evening. After receiving your feedback, the customer service supervisor contacted you immediately. Currently, a related department is handling it. We'll reply to you as soon as the result is generated. Please wait. Thank you! As to your feedback, the customer service supervisor has contacted you by phone. We will pay great attention to it and report it. We will offer you better services in future. Your focus is welcome. Thank you! As to your feedback, we attached significant importance to it and have communicated with you. We will offer you better services in future. For any question, please call our customer service hotline 10106666. Thanks again for your feedback. Hope for your support. Thank you!\n",
      "Counter({'HNUG': 0.47368421052631576, 'HNUG*': 0.47368421052631576, 'HNaN': 0.05263157894736842})\n",
      "\n",
      "CUR:  Thanks for your recognition. Could you tell us the address of the maintenance site?\n",
      "NEXT:  Tianhe District, Guangzhou. The customer service girl's attitude was great and the maintenance was rapid. As for the free beverages and dessert, it's just a joke.\n",
      "Counter({'HNUG': 0.47368421052631576, 'HNaN': 0.47368421052631576, 'HNUG*': 0.05263157894736842})\n",
      "\n",
      "PRE:  Thanks for your recognition. Could you tell us the address of the maintenance site?\n",
      "CUR:  Tianhe District, Guangzhou. The customer service girl's attitude was great and the maintenance was rapid. As for the free beverages and dessert, it's just a joke.\n",
      "NEXT:  OK, thank you! We will provide better services.\n",
      "Counter({'CNUG': 0.47368421052631576, 'CNaN': 0.47368421052631576, 'CNUG*': 0.05263157894736842})\n",
      "\n",
      "PRE:  Hello! Thanks for your previous suggestions. We will try hard to improve our service to provide better technical service to our users. Thanks again for your attention and support to China Unicom! Thank you!\n",
      "CUR:  You’re welcome. It's good for you to correct your shortcomings～good boy.\n",
      "NEXT:  You are fee to send us private messages if you have any doubt in the future. I will be sincerely at your service. Thank you!\n",
      "Counter({'CNUG': 0.47368421052631576, 'CNaN': 0.47368421052631576, 'CNUG*': 0.05263157894736842})\n",
      "\n",
      "CUR:  The web page was recovered. I checked the order just now. I got it. @Meitu Cellphone @Meitu Cellphone Official Customer Service Headset headset headset, come on @Meitu Cellphone\n",
      "NEXT:  Dear dear, we will give the headsets as a present to some lucky guys randomly selected from users that bought our cellphones in the sales campaign on April 17 and posted their orders online~ Teacher Mei will contact them one by one via private message.\n",
      "Counter({'CNUG0': 0.47368421052631576, 'CNaN': 0.47368421052631576, 'CNUG': 0.05263157894736842})\n",
      "\n",
      "PRE:  We will verify it as soon as possible. Thank you very much for your feedback. Hi, this headset has Android version (S200a) and iOS version (S200i). S200a only supports call making and song switching by drive-by-wire on iPhone but doesn't support the volume button. Only some models of Samsung, Sony, and Nokia cellphones support the volume button on this headset.\n",
      "CUR:  Do you understand what I said?\n",
      "Counter({'CNUG': 0.47368421052631576, 'CNaN': 0.47368421052631576, 'CNUG0': 0.05263157894736842})\n",
      "\n",
      "PRE:  Is there any progress? Starting to get unbearably busy with sales volume of only 120000 cellphones? What should you do if you have sales volume of tens of millions of cellphones in the future?\n",
      "CUR:  I am sorry. We have urged and sped up the delivery for you again. We will handle it and get it done as soon as possible.\n",
      "Counter({'HNUG': 0.47368421052631576, 'HNaN': 0.47368421052631576, 'HNUG*': 0.05263157894736842})\n",
      "\n",
      "CUR:  Classmate, you have to download Panda Desktop first. You can operate according to the following instructions: 91 Cellphone Software Customer Service (specialist Xiaoqin))\n",
      "NEXT:  OK 91 Assistant on my cellphone is the cellphone version? I also downloaded it on my computer. Can I use the theme that’s changed after I connect my cellphone with computer terminal of 91 Assistant and download and install 91 Desktop on my cellphone?? Wait a second. I have to ask. What if it’s not downloaded at the computer terminal? OK. It's downloaded on the computer. OK Download on the cellphone? Download with the computer terminal connected? OK\n",
      "Counter({'HNUG': 0.47368421052631576, 'HNUG*': 0.47368421052631576, 'HNaN': 0.05263157894736842})\n",
      "\n",
      "PRE:  Dear, I have left my number to you. OK, 18600346821 and 18516182300. These are my Unicom number. But you can’t get through to them. I can’t make any call either. I just left you a Telecom number of 15311784687. You never tell the truth. No promise. No reputation. What about the reply call you agreed? Gone. Well, your customer service managers and staff are all eating. Your technical staff are also eating. All is very important. We customers deserve bad luck.\n",
      "CUR:  Hi. Our staff is actively following up the issue you fed back. Please pay attention to the reply from our staff. Hello. Our staff is actively following the problem up for you. Please wait for their reply patiently. Thank you!\n",
      "Counter({'HNUG': 0.47368421052631576, 'HNaN': 0.47368421052631576, 'HNUG*': 0.05263157894736842})\n",
      "\n",
      "PRE:  Hi, I have transferred your problem to relevant staff. Please wait patiently for the reply. Thank you!\n",
      "CUR:  Your after-sales service makes even the most patient person want to curse!@ LI Dongsheng @TCL Customer Service Microblog\n",
      "Counter({'CNUG': 0.47368421052631576, 'CNaN': 0.47368421052631576, 'CNUG*': 0.05263157894736842})\n",
      "\n",
      "PRE:  Hi, I found that your feedback was being followed up and addressed. We will contact you as soon as possible once we have the result. Please wait in patience. Thank you.\n",
      "CUR:  @Qunar.com  @Qunar Customer Service  It's been ten days. I still haven't received the refund! Besides, nobody contacted me to explain. What the hell are you going to do? Return my money!\n",
      "Counter({'CNUG': 0.47368421052631576, 'CNaN': 0.47368421052631576, 'CNUG0': 0.05263157894736842})\n",
      "\n",
      "PRE:  Thank you for your feedback. We have recorded it.\n",
      "CUR:  OK\n",
      "Counter({'CNUG': 0.47368421052631576, 'CNaN': 0.47368421052631576, 'CNUG*': 0.05263157894736842})\n",
      "\n",
      "PRE:  4G package users only can't participate in the traffic data, voice and short message gifting activity and they can join the phone bill gifting activity.\n",
      "CUR:  Why? Why do you make a difference? Why do you work on 3G / 4G integration? Why do you make the different even after 3G / 4G integration? Please tell the reason. You can't be both referee and athlete. Is it caused by your technical shortcomings or cheating 4G users on purpose? Why do you promote 4G and 4G package?\n",
      "Counter({'CNUG': 0.47368421052631576, 'CNaN': 0.47368421052631576, 'CNUG0': 0.05263157894736842})\n",
      "\n",
      "PRE:  Hello~Thank you for your valuable suggestion. The head will record it and feed it back~\n",
      "CUR:  Send the information to boss Jia.\n",
      "Counter({'CNUG': 0.47368421052631576, 'CNaN': 0.47368421052631576, 'CNUG*': 0.05263157894736842})\n",
      "\n",
      "PRE:  I won’t be home until weekend. I will operate it when I get home. The elders in my family won't be able to operate it at all.\n",
      "CUR:  OK. You are welcome to consult us at any time if you have any problem.\n",
      "Counter({'HNUG': 0.47368421052631576, 'HNaN': 0.47368421052631576, 'HNUG*': 0.05263157894736842})\n",
      "\n",
      "PRE:  Wo Campus WeChat Plan. 36 yuan of monthly rent.\n",
      "CUR:  I suggest you contacting customer service hot line at 10010 or going to the business hall to cancel the upper limit. Thank you!\n",
      "Counter({'HNUG': 0.47368421052631576, 'HNUG*': 0.47368421052631576, 'HNaN': 0.05263157894736842})\n",
      "\n",
      "PRE:  I've sent those to you in picture.\n",
      "CUR:  Hello, our technical staff has tested your problem at 2015-09-16 13:12:00 and replied that the signal of your broadband was normal. I suggest you checking your router.\n",
      "NEXT:  OK\n",
      "Counter({'HNUG': 0.47368421052631576, 'HNUG*': 0.47368421052631576, 'HNaN': 0.05263157894736842})\n",
      "\n",
      "CUR:  We are sorry for any inconvenience. We take network deployment very seriously. We are now striving to increase our signal coverage and strengthen our network deployment. The reception may be weak in some areas. We will work on the problems. Thanks!\n",
      "NEXT:  I think the China Unicom has made great progress these two years. Our construction site has now been covered with the 3G Internet now. But your competitor took a greater leap so it's apparent that you are overshadowed. I hope you will do a better job on 4G network coverage.\n",
      "Counter({'HNUG': 0.47368421052631576, 'HNaN': 0.47368421052631576, 'HNUG*': 0.05263157894736842})\n",
      "\n",
      "CUR:  I'm sorry for your bad mood. We will improve the system defect to satisfy users. I appreciate your understanding. Thanks.\n",
      "NEXT:  It is not a matter of bad or good mood. The problem causes delay in work, and there is not clear compensation. A friend of mine said, China Unicom receives your opinion but never changes. This is too domineering. In terms of contract, this is a breach. So I'll continue to say bad but real words about you China Unicom and forward it every day until I get an explanation except \"understanding\".\n",
      "Counter({'HNUG': 0.47368421052631576, 'HNaN': 0.47368421052631576, 'HNUG*': 0.05263157894736842})\n",
      "\n",
      "PRE:  No, it's just the back cover that's broken. The rest of the cellphone is in good condition. How much do I pay for a new back cover?\n",
      "CUR:  Hi, the back cover is 100 yuan. We will put it on the shelves soon.\n",
      "NEXT:  OK, please put it on the shelves as soon as possible.\n",
      "Counter({'HNUG': 0.47368421052631576, 'HNUG*': 0.47368421052631576, 'HNaN': 0.05263157894736842})\n",
      "\n",
      "PRE:  Our technical department has carried out relevant network test in the district. The expiration of contract causes the indoor signal coverage around the area is much poorer. We have proposed corresponding solutions and we will try to solve it s faster. Please continue taking notice of the use condition.`\n",
      "CUR:  I hope you can resolve the problem as soon as possible.\n",
      "NEXT:  All right. Dear.\n",
      "Counter({'CNUG': 0.47368421052631576, 'CNaN': 0.47368421052631576, 'CNUG*': 0.05263157894736842})\n",
      "\n",
      "PRE:  We are sorry for any inconvenience. And could you please message us your ADSL number, installation address, (No.XXX, XXX Road, XXX District, XXX city) and your contact number. We will report the issue and reply to you as soon as possible. Thank you for supporting China Unicom!\n",
      "CUR:  I've already reported the issue. I was told that things went wrong with the equipment and it's taken care of.\n",
      "NEXT:  We are sorry for any inconvenience and if you have any problem, feel free to contact us. We are at your service. Thanks for your support!\n",
      "Counter({'CNUG*': 0.47368421052631576, 'CNUG': 0.47368421052631576, 'CNaN': 0.05263157894736842})\n",
      "\n",
      "PRE:  My cellphone has been out of service for a day. It worries me a lot.\n",
      "CUR:  Little U understands your feeling. Little U also hopes that they could reply you as soon as possible.\n",
      "Counter({'HNUG': 0.47368421052631576, 'HNaN': 0.47368421052631576, 'HNUG*': 0.05263157894736842})\n",
      "\n",
      "PRE:  It has been rooted. What can I do?\n",
      "CUR:  Since it has been rooted, you can disable the rooting by firmware upgrade. First, back up important data using Vivo Assistant. You can download the software from the official website of Vivo Assistant. Then download the firmware package to update your mobile phone. Visit the link.\n",
      "Counter({'HNUG': 0.47368421052631576, 'HNUG*': 0.47368421052631576, 'HNaN': 0.05263157894736842})\n",
      "\n",
      "CUR:  Icons also imitate those of Mi phones, so ugly. @Huawei EMUI @Huawei Fans Assistant D\n",
      "NEXT:  Hello. We will record and report your issue to the relevant department of Huawei. The relevant department will verify the truth. Thanks for your support and attention.\n",
      "Counter({'CNUG0': 0.47368421052631576, 'CNaN': 0.47368421052631576, 'CNUG': 0.05263157894736842})\n",
      "\n",
      "PRE:  UC browser.\n",
      "CUR:  Please enter \"Setting - Global Advanced Setting - Application Program Management\" to find \"UC Browser\" and then choose clearing the data to see whether it can be recovered.\n",
      "NEXT:  OK! I will try it.\n",
      "Counter({'HNUG': 0.47368421052631576, 'HNUG*': 0.47368421052631576, 'HNaN': 0.05263157894736842})\n",
      "\n",
      "PRE:  Hello! The customer service head will contact you via private message.\n",
      "CUR:  Thank you. I have left my phone number to you.\n",
      "Counter({'CNUG': 0.47368421052631576, 'CNaN': 0.47368421052631576, 'CNUG*': 0.05263157894736842})\n",
      "\n",
      "PRE:  I hope that you will prioritize user experience in this age of e-commerce. Thanks.\n",
      "CUR:  Thanks so much for you tips. We will spare no effort to improve our services.\n",
      "Counter({'HNUG': 0.47368421052631576, 'HNaN': 0.47368421052631576, 'HNUG*': 0.05263157894736842})\n",
      "\n",
      "CUR:  Hello! We are quite happy to get your affirmation and encouragement. Your satisfaction is the engine of our progress and we will keep trying to provide better service to customers. Hope you can continue supporting us. Thank you!\n",
      "Counter({'HNUG': 0.47368421052631576, 'HNaN': 0.47368421052631576, 'HNUG*': 0.05263157894736842})\n",
      "\n",
      "CUR:  Hello! The icon of Smartisan Calendar Publishing Version is fixedly displayed on the 20th day of the month, which doesn't change dynamically.\n",
      "NEXT:  That would be very inconvenient. I have to click to check the specific date.\n",
      "Counter({'HNUG': 0.47368421052631576, 'HNUG*': 0.47368421052631576, 'HNaN': 0.05263157894736842})\n",
      "\n",
      "PRE:  I am sorry for your inconvenience. Please understand! Since you haven’t described the situation of your cellphone in detail, please provide your contact method via private message. We will arrange relevant staff to contact you to confirm the situation and deal with the problem for you. Thank you for you feedback and support to vivo. We always accetp the feedback and suggestions from our users. We have been trying hard to improve our product experience. Please don't worry. We will definitely solve your own problem.\n",
      "CUR:  Don't just talk and take no action. I hope your company cut down some unnecessary and unpractical functions, and concentrate your efforts on the basics of the cellphone in a down-to-earth way. Don't rush to work on other models when you haven’t figured out how to optimize 3s. Just ask yourself have you attained the acme of perfection? Water can carry or overturn a boat! You can ignore an individual like me. You may think that I picked on you deliberately. But I want to tell you that not everyone was satisfied. Not everyone had a good temper!\n",
      "NEXT:  Hello, I am very sorry for your inconvenience. Please keep your cellphone reachable. We have reported your problem. If you need to verify the situation of your cellphone, we will contact you by phone.\n",
      "Counter({'CNUG': 0.47368421052631576, 'CNaN': 0.47368421052631576, 'CNUG0': 0.05263157894736842})\n",
      "\n",
      "PRE:  I don't know how many phone calls I have made and only a worker responsible for maintenance called me back, saying there's no problem with the line, there was no way to solve the issue and I had to get used to it. How shall I continue safeguarding my interest? Please help me! Thank you!\n",
      "CUR:  Hello! We will forward your issue to relevant department again for verification and handling. Please wait for our reply.\n",
      "Counter({'HNUG': 0.47368421052631576, 'HNaN': 0.47368421052631576, 'HNUG*': 0.05263157894736842})\n",
      "\n",
      "PRE:  I didn't install any antivirus or safety application. Besides, the cellphone couldn't be connected to wifi automatically these days. Every time the screen was turned off, I had to open the wifi network in the settings and click it to connect wifi. What should the users without a computer do?\n",
      "CUR:  Hi, you can try to choose data clear in Settings- Advance Settings- Management of Applications- Settings to see if it can connect automatically. System 1.4 or above will not be connected automatically to the wifi that needs web page validation. If the wifi you connect needs web page validation, it will be not connected automatically.\n",
      "Counter({'HNUG': 0.47368421052631576, 'HNUG*': 0.47368421052631576, 'HNaN': 0.05263157894736842})\n",
      "\n",
      "PRE:  I know the extra money will not disappear out of the void. But I will pay what I need to pay. What gives you the right to make me pay in advance? Did you ask for my permission before the consumption?\n",
      "CUR:  Hello! We are very sorry for the inconvenience. Little Wo give you an advice! You can try to inquire about your telephone credit on our online business hall. If you need any help, please contact Little Wo! Thank you!\n",
      "Counter({'HNUG': 0.47368421052631576, 'HNaN': 0.47368421052631576, 'HNUG*': 0.05263157894736842})\n",
      "\n",
      "CUR:  Dear, please forgive us. We are trying hard~\n",
      "NEXT:  OK~Fix it soon!!!!!!!!!!!Be sure to fix it as quickly as possible.\n",
      "Counter({'HNUG': 0.47368421052631576, 'HNaN': 0.47368421052631576, 'HNUG*': 0.05263157894736842})\n",
      "\n",
      "PRE:  All staff in my company couldn't do any job for the entire day. All you can say is sorry? At least you can ask one of your maintenance staff to call me, okay?\n",
      "CUR:  Your problem has been registered and pressed. I’m really sorry.\n",
      "NEXT:  I don't believe that you have registered my problem and pressed them. You said someone would call me, but I haven't received any phone call till now. You said it’s been pressed, but nothing was solved through the day. How can I trust you?\n",
      "Counter({'HNUG': 0.47368421052631576, 'HNaN': 0.47368421052631576, 'HNUG*': 0.05263157894736842})\n",
      "\n",
      "PRE:  I didn’t bring the cellphone screwdriver, so I can not dismantle it. But my cellphone has been switched on all the time. It read the SIM card after about half a hour. Android system of T1 does not upgrade, right?\n",
      "CUR:  we suggest you to go to places like hardware store or cellphone repair store nearby to find a Tx1 hexagonal screwdriver to open the rear cover. Please keep observing it in case of similar situations afterwards.\n",
      "NEXT:  Yeah, can Android 4.4 of T1 be upgraded？\n",
      "Counter({'HNUG': 0.47368421052631576, 'HNUG*': 0.47368421052631576, 'HNaN': 0.05263157894736842})\n",
      "\n",
      "PRE:  Now there is small refund, but the result is not satisfactory. There shall be results at least. I don't have too much time and effort to handle the issue. The inquiry is totally inconsistent with the actual results. I don't know whether there is need of calling 10010 for consultancy and inquiry. Nevertheless, thank you for your reply!\n",
      "CUR:  WO Mei feels sorry for your unpleasant experience again. You can contact WO Mei via private message for any issues in the future.\n",
      "Counter({'HNUG': 0.47368421052631576, 'HNaN': 0.47368421052631576, 'HNUG*': 0.05263157894736842})\n",
      "\n",
      "PRE:  lol lol lol! Only the thief can prove that my cellphone is lost. Your service are bad but you are always making things difficult for the users.\n",
      "CUR:  We are very sorry for your troubles due to this problem. Our company will study thoroughly to see if there is a better solution and will adjust relevant service policies in time. But for the time being, we can not change the policy. Please understand the inconvenience.\n",
      "NEXT:  I am sorry. It's anger and inconvenience, not trouble. It's Unicom that should be troubled.\n",
      "Counter({'HNUG': 0.47368421052631576, 'HNaN': 0.47368421052631576, 'HNUG*': 0.05263157894736842})\n",
      "\n",
      "PRE:  v2.6.2\n",
      "CUR:  Thanks for your feedback! We will record and submit it to the engineer. Hello! The bug you fed back has been repaired in the latest 2.6.6 version system. Please upgrade it to the latest version of system timely. Thanks for your feedback and suggestions on our system problems. For any other doubts or suggestions, please contact with us any time and we will strive to improve and optimize our products. Thank you again!\n",
      "Counter({'HNUG': 0.47368421052631576, 'HNUG*': 0.47368421052631576, 'HNaN': 0.05263157894736842})\n",
      "\n",
      "CUR:  Don't play tricks on us. You earned nothing but a scolding. Losing the bait along with the fish. You must have lost money these two days. Peaceful coexistence is better than anything else. Why do you harm university students? You do nothing but bully us @China Unicom Customer Service This is a lesson for you. Don't take advantage of university students. @China Mobile 10086 @China Telecom Customer Service\n",
      "NEXT:  Hi, if you encounter any problem in the course of use afterwards, please contact Little Wo via private message at any time. Little Wo will be sincerely at your service. Thank you!\n",
      "Counter({'CNUG0': 0.47368421052631576, 'CNaN': 0.47368421052631576, 'CNUG': 0.05263157894736842})\n",
      "\n",
      "CUR:  Hi, if you encounter any problem in the course of use afterwards, please contact Little Wo via private message at any time. Little Wo will be sincerely at your service. Thank you!\n",
      "Counter({'HNUG': 0.47368421052631576, 'HNaN': 0.47368421052631576, 'HNUG*': 0.05263157894736842})\n",
      "\n",
      "CUR:  Hello! You can enter the \"Setting - General Settings\" in the Microblog to start the automatic shift of landscape and portrait orientation.\n",
      "Counter({'HNUG': 0.47368421052631576, 'HNUG*': 0.47368421052631576, 'HNaN': 0.05263157894736842})\n",
      "\n",
      "CUR:  We are still trying hard~\n",
      "NEXT:  It's been a month. Science and technology change with each passing day, but the network near International Tea Town in Central City of Longgang District of Shenzhen is still like this. O web page link\n",
      "Counter({'HNUG': 0.47368421052631576, 'HNaN': 0.47368421052631576, 'HNUG*': 0.05263157894736842})\n",
      "\n",
      "PRE:  OK. I'll call them.\n",
      "CUR:  OK. Please contact us any time for any problem.\n",
      "Counter({'HNUG': 0.47368421052631576, 'HNaN': 0.47368421052631576, 'HNUG*': 0.05263157894736842})\n",
      "\n",
      "PRE:  There was no response no matter how long I pressed the key. I also tried to charge the cellphone for half an hour and then press the Power Key and Home Key simultaneously for over 15 seconds, but there was still no response.\n",
      "CUR:  Hi, please check if there is any after-sales store nearby for detection at O Off-line Repair Store- Smartisan. If there is no off-line branch in your district, please submit your after-sales request on our official website t.tt. Our after-sales staff will contact you as soon as possible. We are sorry for your inconvenience.\n",
      "NEXT:  OK! I will check.\n",
      "Counter({'HNUG': 0.47368421052631576, 'HNUG*': 0.47368421052631576, 'HNaN': 0.05263157894736842})\n",
      "\n",
      "CUR:  You can choose Settings > Advanced Settings > Application Management to find this application. Then clear data and restart your mobile phone.\n",
      "NEXT:  I failed to open the app after clearing data. It was automatically closed. The app ran normal after I reinstalled it. Please fix this problem.\n",
      "Counter({'HNUG': 0.47368421052631576, 'HNUG*': 0.47368421052631576, 'HNaN': 0.05263157894736842})\n",
      "\n",
      "PRE:  Unlocking is a piece of cake, which takes less than an hour. But installation may take longer.\n",
      "CUR:  We are so sorry for our mistakes. Please stay tuned. And if you need any help, feel free to contact us. Thank you!\n",
      "Counter({'HNUG': 0.47368421052631576, 'HNaN': 0.47368421052631576, 'HNUG*': 0.05263157894736842})\n",
      "\n",
      "PRE:  Hello! We are sorry for bringing you bad impression. It is checked that the network in the area will be subject to base station expansion. The construction of base station requires the review, site selection and construction of relevant communication departments, which may take a certain period of time. We are sincerely sorry for your inconveninence during the period. Please understand. Thank you!\n",
      "CUR:  The local department replied to me the project had already been approved, but hadn’t commenced.\n",
      "NEXT:  Hello! Thank you for your feedback. We will make great efforts to promote network construction according to the actual situation. Please pay attention to the use any time! Thanks!\n",
      "Counter({'CNUG': 0.47368421052631576, 'CNaN': 0.47368421052631576, 'CNUG0': 0.05263157894736842})\n",
      "\n",
      "PRE:  Hello! We are sorry for your unpleasant experience. Qunar.com quite concerns about your feedback. If convenient, you can send your contact way, specific problem and order number to us via private message, and we will do our best to verify and handle the issue. Thank you!\n",
      "CUR:  Though you are polite and keep saying sorry, the timeliness of your service, process and final results really disappoint customers.\n",
      "Counter({'CNUG': 0.47368421052631576, 'CNaN': 0.47368421052631576, 'CNUG*': 0.05263157894736842})\n",
      "\n",
      "CUR:  Sorry dear, because Meitu Cellphone 2 is a all-in-one device, the price of the screen will be relatively high. Please don't worry for the moment. Little Mei will contact you via private message. Please tell Little Mei your information so Little Mei will verify it for you. Dear, we will send the cellphone to one of our branches for testing according to the plan on which we communicate via private message. If you encounter any problem in the course of cellphone using afterwards, please contact us in time or call our customer service hot line 4009909696. We will be sincerely at your service. Please don't worry.\n",
      "NEXT:  The charge was confirmed as 260 yuan yesterday.\n",
      "Counter({'HNUG': 0.47368421052631576, 'HNUG*': 0.47368421052631576, 'HNaN': 0.05263157894736842})\n",
      "\n",
      "PRE:  The customer service staff told me that no message service is covered in the 4G package plan.\n",
      "CUR:  The China Unicom Customer Service Sichuan will work on this. Please stay tuned.\n",
      "Counter({'HNUG': 0.47368421052631576, 'HNaN': 0.47368421052631576, 'HNUG*': 0.05263157894736842})\n",
      "\n",
      "CUR:  http://t.cn/zWls3a8 I made an evaluation about TCL S900 @LIANG Qichun_TCL @TCL Customer Service Mircroblog @TCL Cellphone @LI Dongsheng @TCL Communications\n",
      "NEXT:  Hello! Thank you for your attention and supervision. We will feed back the situation you mentioned to relevant department and keep improving and perfecting our products. Thanks!\n",
      "Counter({'CNUG0': 0.47368421052631576, 'CNaN': 0.47368421052631576, 'CNUG': 0.05263157894736842})\n",
      "\n",
      "CUR:  Hello! Thank you for your attention and supervision. We will feed back the situation you mentioned to relevant department and keep improving and perfecting our products. Thanks!\n",
      "Counter({'HNUG': 0.47368421052631576, 'HNaN': 0.47368421052631576, 'HNUG*': 0.05263157894736842})\n",
      "\n",
      "PRE:  Hi, we are very sorry for this situation. Please submit after-sales request in the personal center after you log in the official website of Smartisan at t.tt. Our after-sales staff will contact you as soon as possible.\n",
      "CUR:  Then what does your official microblog do? Why do I need to log in the official website?\n",
      "NEXT:  We are very sorry for this situation. Please provide your name, contact method, the time you went to the store and your requirements via private message. We will record and verify it and solve your problem as soon as possible.\n",
      "Counter({'CNUG': 0.47368421052631576, 'CNaN': 0.47368421052631576, 'CNUG0': 0.05263157894736842})\n",
      "\n",
      "CUR:  Hi! I am sorry. Could you please provide your Unicom number and contact number so that we can verify your problem and contact you to give you the feedback. Thank you for your understanding and support!\n",
      "NEXT:  Why don't the other two operators have such problem? I've never heard of people who use the cards of other other operators complaining about this. The signal is at the maximum on the subway and is also in 3G mode. The network speed during the rush hours in the morning is higher than that in the evening. The network speed is fast in non-rush hours.\n",
      "Counter({'HNUG': 0.47368421052631576, 'HNaN': 0.47368421052631576, 'HNUG*': 0.05263157894736842})\n",
      "\n",
      "PRE:  Hello! Could you please leave your QQ number? so that we can check the details for you.\n",
      "CUR:  Hello! It can be synchronized after the restart. It can't be synchronized if it is not restarted. For any questions, I will contact with you!\n",
      "NEXT:  OK.\n",
      "Counter({'CNUG*': 0.47368421052631576, 'CNUG': 0.47368421052631576, 'CNaN': 0.05263157894736842})\n",
      "\n",
      "CUR:  (⊙o⊙)….A repeated slander makes others believe. I believe rumors will be ended by you, a wise classmate. O(∩_∩)O ha-ha~\n",
      "Counter({'HNUG': 0.47368421052631576, 'HNaN': 0.47368421052631576, 'HNUG*': 0.05263157894736842})\n",
      "\n",
      "CUR:  Hi, I am very sorry for your unpleasant experience. We will feed your opinions back to relevant departments.\n",
      "Counter({'HNUG': 0.47368421052631576, 'HNaN': 0.47368421052631576, 'HNUG*': 0.05263157894736842})\n",
      "\n",
      "PRE:  Hello, concerning the problem you reflected, Little Wo has tested and found that you have to check the box of Invoice Printing in the recharge page in the cellphone business hall before you go to the local business hall to print the invoice. Please get to know that. Thank you!\n",
      "CUR:  Who would pay attention to that? If you can’t solve the problem, I will keep complaining. I don’t believe that there is no place for me to get justice.\n",
      "NEXT:  Hello! I am sorry for your inconvenience. We hope that we can help you to handle the issue you fed back. Please provide the Unicom phone number, contact number and contact name via private message at your convenience. We will submit it to relevant departments to verify and follow up the issue. Look forward to your message. Thank you!\n",
      "Counter({'CNUG': 0.47368421052631576, 'CNaN': 0.47368421052631576, 'CNUG0': 0.05263157894736842})\n",
      "\n",
      "PRE:  If I want higher upload speed, I will install a broadband from another operator, which is much cheaper than upgrading the broadband of Telecom. Discussing with companies like yours that deliberately cheat users is nothing else but asking a tiger for its skin. The default upload speed of 20M optical broadband of other operators is 2M. How dare you talk about your penny-pinching \"broadband\"?\n",
      "CUR:  We are very sorry. We suggest you to pay attention to its usage.\n",
      "Counter({'HNUG': 0.47368421052631576, 'HNaN': 0.47368421052631576, 'HNUG*': 0.05263157894736842})\n",
      "\n",
      "CUR:  Photo attributes cannot be accessed in the built-in album. You may download a third-party image viewer or a file management app.\n",
      "NEXT:  Are you planning to solve this problem?\n",
      "Counter({'HNUG': 0.47368421052631576, 'HNUG*': 0.47368421052631576, 'HNaN': 0.05263157894736842})\n",
      "\n",
      "PRE:  If the problem occurs frequently, you are suggested to back up the data in the phone, save it in the computer and then recover the factory setting.\n",
      "CUR:  I restarted the phone just now.. It hasn't been any problem up to now.\n",
      "Counter({'CNUG*': 0.47368421052631576, 'CNUG': 0.47368421052631576, 'CNaN': 0.05263157894736842})\n",
      "\n",
      "PRE:  Thanks for your suggestion. We've taken a record and report it to our technician.\n",
      "CUR:  Have you really taken a record?\n",
      "NEXT:  Actually we don't. The front cameras of some Smartisan T1 mobile phones are crooked. The staff who replied to you earlier misunderstood your post. We apologize for our mistakes.\n",
      "Counter({'CNUG': 0.47368421052631576, 'CNaN': 0.47368421052631576, 'CNUG0': 0.05263157894736842})\n",
      "\n",
      "CUR:  Hello! Please tell us your problematic broadband account, broadband address, your name and contact method via private message, so that we can verify the issue and reply to you.\n",
      "Counter({'HNUG': 0.47368421052631576, 'HNaN': 0.47368421052631576, 'HNUG*': 0.05263157894736842})\n",
      "\n",
      "CUR:  Hi! Thank you very much for your valuable advice. We will study thoroughly your advice, and try our best to improve our service. Thank you again for your attention and support to China Unicom! Thank you!\n",
      "NEXT:  Tomorrow is June 1...Don't you give some free data?\n",
      "Counter({'HNUG': 0.47368421052631576, 'HNaN': 0.47368421052631576, 'HNUG*': 0.05263157894736842})\n",
      "\n",
      "CUR:  Hello! We are sorry for the inconvenience. Thank you for your suggestion! We will constantly improve the service and increase the service capability. Please continue focusing on our business.\n",
      "Counter({'HNUG': 0.47368421052631576, 'HNaN': 0.47368421052631576, 'HNUG*': 0.05263157894736842})\n",
      "\n",
      "PRE:  Hello Mr. Jin, I am Xiao Zhang, Microblog director of eLong. I communicated with you on the phone just now. I expressed my sincere apology for you again for your inconvenience. At the same time, I appreciate your feedback. We will constantly improve our service and try hard to do better. If I have the honor to serve you again, please contact me in time. Wish you happy in your life and work.\n",
      "CUR:  I’ve deleted the microblog I posted just now. This microblog reflected my feelings. In the future we will build 3 hotels. We have to take precautions. We can’t be controlled by others. We can’t make people on vacation feel unpleasant due to the reason of our partners. This is my true feeling.\n",
      "Counter({'CNUG': 0.47368421052631576, 'CNaN': 0.47368421052631576, 'CNUG*': 0.05263157894736842})\n",
      "\n",
      "CUR:  Hello. Thanks for your feedback. We will seriously research your suggestion and make efforts to provide more different and reasonable preferential policies based on customer's requirements. We advise you to visit our official website www.10010.com to query the latest information about preferential policies. Thank you.\n",
      "Counter({'HNUG': 0.47368421052631576, 'HNaN': 0.47368421052631576, 'HNUG*': 0.05263157894736842})\n",
      "\n",
      "PRE:  I was only running QQ, WeChat, and browser. Only three background programs were running but the cellphone was still stuck. If I keep clearing the memory, it can’t be regarded as a smart cellphone...\n",
      "CUR:  Little V will send a private message to you.\n",
      "Counter({'HNUG': 0.47368421052631576, 'HNaN': 0.47368421052631576, 'HNUG*': 0.05263157894736842})\n",
      "\n",
      "PRE:  I saw “Smartisan OS version v2.6.0” in “About”. The SIM card couldn’t be read because I didn’t update the system? But it had been all right last night. It broke down all of sudden... I couldn't find any other SIM card suitable for U1 at the moment.\n",
      "CUR:  I suggest you trying to update your cellphone to the latest version of system to see if it works.\n",
      "NEXT:  OK, I will try first.\n",
      "Counter({'HNUG': 0.47368421052631576, 'HNUG*': 0.47368421052631576, 'HNaN': 0.05263157894736842})\n",
      "\n"
     ]
    }
   ],
   "source": [
    "for _id, turn, corpus, nugget, quality in t:\n",
    "    for i in range(len(nugget)):\n",
    "        if list(nugget[i].values()).count(0.47368421052631576) > 1:\n",
    "            if i-1 > 0:\n",
    "                print(\"PRE: \", corpus[i-1])\n",
    "            print(\"CUR: \", corpus[i])\n",
    "            if i+1 < len(nugget):\n",
    "                print(\"NEXT: \", corpus[i+1])\n",
    "            print(nugget[i])\n",
    "            print()"
   ]
  },
  {
   "cell_type": "code",
   "execution_count": 10,
   "metadata": {},
   "outputs": [
    {
     "data": {
      "text/plain": [
       "('3760162390685790',\n",
       " ['customer', 'helpdesk', 'customer', 'helpdesk', 'customer', 'helpdesk'],\n",
       " [\"I apply for upgrading the China Unicom fiber network today. The installation personnel told me that he is available tomorrow afternoon or on the morning of October 4. If I choose the second date, Internet will be down from October 1 to the morning of October 4. But I won't be home tomorrow afternoon. I didn't get any heads-up about disconnected Internet and I got different replies from different customer service staffs. @China Unicom Shanghai @China Unicom Customer Service Shanghai Are you trying to make me switch to another mobile phone carrier?\",\n",
       "  'We are sorry for any inconvenience. Is the broadband for personal use or for the company?',\n",
       "  'It is home broadband. Let me get this straight: Either I get the broadband installed next morning on October 4 or the ADSL broadband service cannot be disabled.',\n",
       "  'Could you please message us your ADSL ID and your ID for checkup?',\n",
       "  'The issue has been resolved. Thanks!',\n",
       "  'You are welcome. We are always at your service.'],\n",
       " [Counter({'CNUG0': 0.8947368421052632, 'CNaN': 0.10526315789473684}),\n",
       "  Counter({'HNUG': 0.8947368421052632, 'HNaN': 0.10526315789473684}),\n",
       "  Counter({'CNUG': 0.8947368421052632, 'CNaN': 0.10526315789473684}),\n",
       "  Counter({'HNUG': 0.47368421052631576,\n",
       "           'HNUG*': 0.3684210526315789,\n",
       "           'HNaN': 0.15789473684210525}),\n",
       "  Counter({'CNUG': 0.2631578947368421,\n",
       "           'CNUG*': 0.631578947368421,\n",
       "           'CNaN': 0.10526315789473684}),\n",
       "  Counter({'HNUG': 0.3157894736842105,\n",
       "           'HNUG*': 0.05263157894736842,\n",
       "           'HNaN': 0.631578947368421})],\n",
       " {'A': [0.10526315789473684,\n",
       "   0.05263157894736842,\n",
       "   0.05263157894736842,\n",
       "   0.2631578947368421,\n",
       "   0.5263157894736842],\n",
       "  'E': [0.05263157894736842,\n",
       "   0.0,\n",
       "   0.10526315789473684,\n",
       "   0.47368421052631576,\n",
       "   0.3684210526315789],\n",
       "  'S': [0.0,\n",
       "   0.10526315789473684,\n",
       "   0.10526315789473684,\n",
       "   0.3157894736842105,\n",
       "   0.47368421052631576]})"
      ]
     },
     "execution_count": 10,
     "metadata": {},
     "output_type": "execute_result"
    }
   ],
   "source": [
    "t[0]"
   ]
  },
  {
   "cell_type": "code",
   "execution_count": 3,
   "metadata": {},
   "outputs": [
    {
     "data": {
      "text/plain": [
       "'aabaaa'"
      ]
     },
     "execution_count": 3,
     "metadata": {},
     "output_type": "execute_result"
    }
   ],
   "source": [
    "a[:3] + 'b' + a[2:]"
   ]
  },
  {
   "cell_type": "code",
   "execution_count": 4,
   "metadata": {},
   "outputs": [],
   "source": [
    "A = 5\n",
    "B = 3"
   ]
  },
  {
   "cell_type": "code",
   "execution_count": 7,
   "metadata": {},
   "outputs": [],
   "source": [
    "ans = 'a' * A\n",
    "i = 2\n",
    "while B > 0:\n",
    "    ans = ans[:i] + 'b' + ans[i:]\n",
    "    i += 3\n",
    "    B -= 1"
   ]
  },
  {
   "cell_type": "code",
   "execution_count": 8,
   "metadata": {},
   "outputs": [
    {
     "data": {
      "text/plain": [
       "'aabaabab'"
      ]
     },
     "execution_count": 8,
     "metadata": {},
     "output_type": "execute_result"
    }
   ],
   "source": [
    "ans"
   ]
  },
  {
   "cell_type": "code",
   "execution_count": 18,
   "metadata": {},
   "outputs": [
    {
     "name": "stdout",
     "output_type": "stream",
     "text": [
      "abaa\n",
      "ababa\n",
      "ababab\n"
     ]
    }
   ],
   "source": [
    "A=3\n",
    "B=3\n",
    "ans = 'a' * A\n",
    "i=0\n",
    "while B > 0:\n",
    "    if A - B < 1:\n",
    "        i += 1\n",
    "        ans = ans[:i] + 'b' + ans[i:]\n",
    "        A -= 1\n",
    "        B -= 1\n",
    "        i += 1\n",
    "        print(ans)"
   ]
  },
  {
   "cell_type": "code",
   "execution_count": 17,
   "metadata": {},
   "outputs": [
    {
     "data": {
      "text/plain": [
       "'aababb'"
      ]
     },
     "execution_count": 17,
     "metadata": {},
     "output_type": "execute_result"
    }
   ],
   "source": [
    "ans"
   ]
  },
  {
   "cell_type": "code",
   "execution_count": null,
   "metadata": {},
   "outputs": [],
   "source": []
  },
  {
   "cell_type": "code",
   "execution_count": null,
   "metadata": {},
   "outputs": [],
   "source": []
  },
  {
   "cell_type": "code",
   "execution_count": null,
   "metadata": {},
   "outputs": [],
   "source": []
  },
  {
   "cell_type": "code",
   "execution_count": 20,
   "metadata": {},
   "outputs": [],
   "source": [
    "ranks = [1,0,0,1,0,1,2,3,3,3,4,5,6,7,7,1,1]\n",
    "ranks_dict = dict()\n",
    "for rank in ranks:\n",
    "    ranks_dict[rank] = ranks_dict.get(rank, 0)"
   ]
  },
  {
   "cell_type": "code",
   "execution_count": 21,
   "metadata": {},
   "outputs": [
    {
     "data": {
      "text/plain": [
       "{0: 0, 1: 0, 2: 0, 3: 0, 4: 0, 5: 0, 6: 0, 7: 0}"
      ]
     },
     "execution_count": 21,
     "metadata": {},
     "output_type": "execute_result"
    }
   ],
   "source": [
    "ranks_dict"
   ]
  },
  {
   "cell_type": "code",
   "execution_count": 24,
   "metadata": {},
   "outputs": [],
   "source": [
    "from collections import Counter"
   ]
  },
  {
   "cell_type": "code",
   "execution_count": 28,
   "metadata": {},
   "outputs": [],
   "source": [
    "ranks = [3, 4, 3, 0, 2, 2, 3, 0, 0] "
   ]
  },
  {
   "cell_type": "code",
   "execution_count": 29,
   "metadata": {},
   "outputs": [
    {
     "data": {
      "text/plain": [
       "Counter({0: 3, 2: 2, 3: 3, 4: 1})"
      ]
     },
     "execution_count": 29,
     "metadata": {},
     "output_type": "execute_result"
    }
   ],
   "source": [
    "Counter(ranks)"
   ]
  },
  {
   "cell_type": "code",
   "execution_count": 38,
   "metadata": {},
   "outputs": [
    {
     "name": "stdout",
     "output_type": "stream",
     "text": [
      "2 2\n",
      "3 3\n"
     ]
    }
   ],
   "source": [
    "ranks = Counter(ranks)\n",
    "ans = 0\n",
    "for rank, num in ranks.items():\n",
    "    if rank + 1 in ranks:\n",
    "        ans += ranks[rank]\n",
    "        print(rank, ranks[rank])"
   ]
  },
  {
   "cell_type": "code",
   "execution_count": 39,
   "metadata": {},
   "outputs": [
    {
     "data": {
      "text/plain": [
       "5"
      ]
     },
     "execution_count": 39,
     "metadata": {},
     "output_type": "execute_result"
    }
   ],
   "source": [
    "ans"
   ]
  },
  {
   "cell_type": "code",
   "execution_count": null,
   "metadata": {},
   "outputs": [],
   "source": []
  },
  {
   "cell_type": "code",
   "execution_count": null,
   "metadata": {},
   "outputs": [],
   "source": []
  },
  {
   "cell_type": "code",
   "execution_count": null,
   "metadata": {},
   "outputs": [],
   "source": []
  },
  {
   "cell_type": "code",
   "execution_count": null,
   "metadata": {},
   "outputs": [],
   "source": []
  },
  {
   "cell_type": "code",
   "execution_count": 88,
   "metadata": {},
   "outputs": [],
   "source": [
    "def length(days):\n",
    "    # How many days to travel\n",
    "    if isinstance(days, int):\n",
    "        return days\n",
    "    else:\n",
    "        return days.count(1)"
   ]
  },
  {
   "cell_type": "code",
   "execution_count": 116,
   "metadata": {},
   "outputs": [],
   "source": [
    "A = [1,2,4,5,7,29,30]\n",
    "A = [1,2,3,4,5,6,7,8,9,10,11,26,27,28,29,30] #21\n",
    "A = [1,8,15,22,30] #10\n",
    "A = [1,7,8,15,22,30] #14\n",
    "A = [1,2,3,4,8,9,10,11,15,16,17,18,27,28,29] #25\n",
    "A = [1,3,5,9,11,13,19,21,23,29,30] #22\n",
    "A = [1,3,5,7,9,11,13,19,21,23,29,30] #23"
   ]
  },
  {
   "cell_type": "code",
   "execution_count": 117,
   "metadata": {},
   "outputs": [],
   "source": [
    "A_onehot = [0] * 31\n",
    "for a in A:\n",
    "    A_onehot[a] = 1"
   ]
  },
  {
   "cell_type": "code",
   "execution_count": 118,
   "metadata": {},
   "outputs": [
    {
     "name": "stdout",
     "output_type": "stream",
     "text": [
      "buy 7d from day 1 to day 7\n",
      "but 1d at day 9\n",
      "but 1d at day 11\n",
      "but 1d at day 13\n",
      "but 1d at day 19\n",
      "but 1d at day 21\n",
      "but 1d at day 23\n",
      "but 1d at day 29\n",
      "but 1d at day 30\n",
      "23\n"
     ]
    }
   ],
   "source": [
    "i = 1\n",
    "cost = 0\n",
    "while i <= 30:\n",
    "    if length(A_onehot[i]):  # Buy a ticket\n",
    "        if length(A_onehot[i:i+7]) > 3: # buy 7d\n",
    "            print('buy 7d from day {} to day {}'.format(i, i+6))\n",
    "            cost += 7\n",
    "            i += 7\n",
    "        else: # buy 1d\n",
    "            print('but 1d at day {}'.format(i))\n",
    "            cost += 2\n",
    "            i += 1\n",
    "    elif A_onehot[i] == 0: # Dont buy anything\n",
    "        i += 1\n",
    "print(min(cost, 25))"
   ]
  },
  {
   "cell_type": "code",
   "execution_count": 68,
   "metadata": {},
   "outputs": [
    {
     "data": {
      "text/plain": [
       "[1, 1, 0, 1, 1, 0, 1]"
      ]
     },
     "execution_count": 68,
     "metadata": {},
     "output_type": "execute_result"
    }
   ],
   "source": [
    "A_onehot[1:1+7]"
   ]
  },
  {
   "cell_type": "code",
   "execution_count": null,
   "metadata": {},
   "outputs": [],
   "source": []
  }
 ],
 "metadata": {
  "kernelspec": {
   "display_name": "Python 3",
   "language": "python",
   "name": "python3"
  },
  "language_info": {
   "codemirror_mode": {
    "name": "ipython",
    "version": 3
   },
   "file_extension": ".py",
   "mimetype": "text/x-python",
   "name": "python",
   "nbconvert_exporter": "python",
   "pygments_lexer": "ipython3",
   "version": "3.5.2"
  }
 },
 "nbformat": 4,
 "nbformat_minor": 2
}
