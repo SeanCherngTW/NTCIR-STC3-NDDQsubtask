{
 "cells": [
  {
   "cell_type": "code",
   "execution_count": 2,
   "metadata": {},
   "outputs": [],
   "source": [
    "a = 'aaaaa'"
   ]
  },
  {
   "cell_type": "code",
   "execution_count": 3,
   "metadata": {},
   "outputs": [
    {
     "data": {
      "text/plain": [
       "'aabaaa'"
      ]
     },
     "execution_count": 3,
     "metadata": {},
     "output_type": "execute_result"
    }
   ],
   "source": [
    "a[:3] + 'b' + a[2:]"
   ]
  },
  {
   "cell_type": "code",
   "execution_count": 4,
   "metadata": {},
   "outputs": [],
   "source": [
    "A = 5\n",
    "B = 3"
   ]
  },
  {
   "cell_type": "code",
   "execution_count": 7,
   "metadata": {},
   "outputs": [],
   "source": [
    "ans = 'a' * A\n",
    "i = 2\n",
    "while B > 0:\n",
    "    ans = ans[:i] + 'b' + ans[i:]\n",
    "    i += 3\n",
    "    B -= 1"
   ]
  },
  {
   "cell_type": "code",
   "execution_count": 8,
   "metadata": {},
   "outputs": [
    {
     "data": {
      "text/plain": [
       "'aabaabab'"
      ]
     },
     "execution_count": 8,
     "metadata": {},
     "output_type": "execute_result"
    }
   ],
   "source": [
    "ans"
   ]
  },
  {
   "cell_type": "code",
   "execution_count": 18,
   "metadata": {},
   "outputs": [
    {
     "name": "stdout",
     "output_type": "stream",
     "text": [
      "abaa\n",
      "ababa\n",
      "ababab\n"
     ]
    }
   ],
   "source": [
    "A=3\n",
    "B=3\n",
    "ans = 'a' * A\n",
    "i=0\n",
    "while B > 0:\n",
    "    if A - B < 1:\n",
    "        i += 1\n",
    "        ans = ans[:i] + 'b' + ans[i:]\n",
    "        A -= 1\n",
    "        B -= 1\n",
    "        i += 1\n",
    "        print(ans)"
   ]
  },
  {
   "cell_type": "code",
   "execution_count": 17,
   "metadata": {},
   "outputs": [
    {
     "data": {
      "text/plain": [
       "'aababb'"
      ]
     },
     "execution_count": 17,
     "metadata": {},
     "output_type": "execute_result"
    }
   ],
   "source": [
    "ans"
   ]
  },
  {
   "cell_type": "code",
   "execution_count": null,
   "metadata": {},
   "outputs": [],
   "source": []
  },
  {
   "cell_type": "code",
   "execution_count": null,
   "metadata": {},
   "outputs": [],
   "source": []
  },
  {
   "cell_type": "code",
   "execution_count": null,
   "metadata": {},
   "outputs": [],
   "source": []
  },
  {
   "cell_type": "code",
   "execution_count": 20,
   "metadata": {},
   "outputs": [],
   "source": [
    "ranks = [1,0,0,1,0,1,2,3,3,3,4,5,6,7,7,1,1]\n",
    "ranks_dict = dict()\n",
    "for rank in ranks:\n",
    "    ranks_dict[rank] = ranks_dict.get(rank, 0)"
   ]
  },
  {
   "cell_type": "code",
   "execution_count": 21,
   "metadata": {},
   "outputs": [
    {
     "data": {
      "text/plain": [
       "{0: 0, 1: 0, 2: 0, 3: 0, 4: 0, 5: 0, 6: 0, 7: 0}"
      ]
     },
     "execution_count": 21,
     "metadata": {},
     "output_type": "execute_result"
    }
   ],
   "source": [
    "ranks_dict"
   ]
  },
  {
   "cell_type": "code",
   "execution_count": 24,
   "metadata": {},
   "outputs": [],
   "source": [
    "from collections import Counter"
   ]
  },
  {
   "cell_type": "code",
   "execution_count": 28,
   "metadata": {},
   "outputs": [],
   "source": [
    "ranks = [3, 4, 3, 0, 2, 2, 3, 0, 0] "
   ]
  },
  {
   "cell_type": "code",
   "execution_count": 29,
   "metadata": {},
   "outputs": [
    {
     "data": {
      "text/plain": [
       "Counter({0: 3, 2: 2, 3: 3, 4: 1})"
      ]
     },
     "execution_count": 29,
     "metadata": {},
     "output_type": "execute_result"
    }
   ],
   "source": [
    "Counter(ranks)"
   ]
  },
  {
   "cell_type": "code",
   "execution_count": 38,
   "metadata": {},
   "outputs": [
    {
     "name": "stdout",
     "output_type": "stream",
     "text": [
      "2 2\n",
      "3 3\n"
     ]
    }
   ],
   "source": [
    "ranks = Counter(ranks)\n",
    "ans = 0\n",
    "for rank, num in ranks.items():\n",
    "    if rank + 1 in ranks:\n",
    "        ans += ranks[rank]\n",
    "        print(rank, ranks[rank])"
   ]
  },
  {
   "cell_type": "code",
   "execution_count": 39,
   "metadata": {},
   "outputs": [
    {
     "data": {
      "text/plain": [
       "5"
      ]
     },
     "execution_count": 39,
     "metadata": {},
     "output_type": "execute_result"
    }
   ],
   "source": [
    "ans"
   ]
  },
  {
   "cell_type": "code",
   "execution_count": null,
   "metadata": {},
   "outputs": [],
   "source": []
  },
  {
   "cell_type": "code",
   "execution_count": null,
   "metadata": {},
   "outputs": [],
   "source": []
  },
  {
   "cell_type": "code",
   "execution_count": null,
   "metadata": {},
   "outputs": [],
   "source": []
  },
  {
   "cell_type": "code",
   "execution_count": null,
   "metadata": {},
   "outputs": [],
   "source": []
  },
  {
   "cell_type": "code",
   "execution_count": 88,
   "metadata": {},
   "outputs": [],
   "source": [
    "def length(days):\n",
    "    # How many days to travel\n",
    "    if isinstance(days, int):\n",
    "        return days\n",
    "    else:\n",
    "        return days.count(1)"
   ]
  },
  {
   "cell_type": "code",
   "execution_count": 116,
   "metadata": {},
   "outputs": [],
   "source": [
    "A = [1,2,4,5,7,29,30]\n",
    "A = [1,2,3,4,5,6,7,8,9,10,11,26,27,28,29,30] #21\n",
    "A = [1,8,15,22,30] #10\n",
    "A = [1,7,8,15,22,30] #14\n",
    "A = [1,2,3,4,8,9,10,11,15,16,17,18,27,28,29] #25\n",
    "A = [1,3,5,9,11,13,19,21,23,29,30] #22\n",
    "A = [1,3,5,7,9,11,13,19,21,23,29,30] #23"
   ]
  },
  {
   "cell_type": "code",
   "execution_count": 117,
   "metadata": {},
   "outputs": [],
   "source": [
    "A_onehot = [0] * 31\n",
    "for a in A:\n",
    "    A_onehot[a] = 1"
   ]
  },
  {
   "cell_type": "code",
   "execution_count": 118,
   "metadata": {},
   "outputs": [
    {
     "name": "stdout",
     "output_type": "stream",
     "text": [
      "buy 7d from day 1 to day 7\n",
      "but 1d at day 9\n",
      "but 1d at day 11\n",
      "but 1d at day 13\n",
      "but 1d at day 19\n",
      "but 1d at day 21\n",
      "but 1d at day 23\n",
      "but 1d at day 29\n",
      "but 1d at day 30\n",
      "23\n"
     ]
    }
   ],
   "source": [
    "i = 1\n",
    "cost = 0\n",
    "while i <= 30:\n",
    "    if length(A_onehot[i]):  # Buy a ticket\n",
    "        if length(A_onehot[i:i+7]) > 3: # buy 7d\n",
    "            print('buy 7d from day {} to day {}'.format(i, i+6))\n",
    "            cost += 7\n",
    "            i += 7\n",
    "        else: # buy 1d\n",
    "            print('but 1d at day {}'.format(i))\n",
    "            cost += 2\n",
    "            i += 1\n",
    "    elif A_onehot[i] == 0: # Dont buy anything\n",
    "        i += 1\n",
    "print(min(cost, 25))"
   ]
  },
  {
   "cell_type": "code",
   "execution_count": 68,
   "metadata": {},
   "outputs": [
    {
     "data": {
      "text/plain": [
       "[1, 1, 0, 1, 1, 0, 1]"
      ]
     },
     "execution_count": 68,
     "metadata": {},
     "output_type": "execute_result"
    }
   ],
   "source": [
    "A_onehot[1:1+7]"
   ]
  },
  {
   "cell_type": "code",
   "execution_count": null,
   "metadata": {},
   "outputs": [],
   "source": []
  }
 ],
 "metadata": {
  "kernelspec": {
   "display_name": "Python 3",
   "language": "python",
   "name": "python3"
  },
  "language_info": {
   "codemirror_mode": {
    "name": "ipython",
    "version": 3
   },
   "file_extension": ".py",
   "mimetype": "text/x-python",
   "name": "python",
   "nbconvert_exporter": "python",
   "pygments_lexer": "ipython3",
   "version": "3.5.2"
  }
 },
 "nbformat": 4,
 "nbformat_minor": 2
}
