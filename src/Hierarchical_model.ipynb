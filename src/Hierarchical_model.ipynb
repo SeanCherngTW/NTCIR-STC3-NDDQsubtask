{
 "cells": [
  {
   "cell_type": "code",
   "execution_count": 1,
   "metadata": {
    "collapsed": false,
    "deletable": true,
    "editable": true
   },
   "outputs": [
    {
     "name": "stderr",
     "output_type": "stream",
     "text": [
      "Using TensorFlow backend.\n"
     ]
    }
   ],
   "source": [
    "import os\n",
    "import time\n",
    "import json\n",
    "import pickle\n",
    "import timeit\n",
    "import random\n",
    "import param\n",
    "import shutil\n",
    "import collections\n",
    "import numpy as np\n",
    "import tensorflow as tf\n",
    "\n",
    "import stctrain\n",
    "import datahelper\n",
    "import stctokenizer\n",
    "import nuggetdetection as ND\n",
    "import dialogquality as DQ\n",
    "import dialogquality_ndfeature as DQNDF\n",
    "import stcevaluation as STCE\n",
    "\n",
    "from scipy import stats\n",
    "from collections import Counter\n",
    "from gensim.models import Word2Vec\n",
    "from gensim.models import word2vec\n",
    "from gensim.models.keyedvectors import KeyedVectors\n",
    "\n",
    "import logging\n",
    "logging.basicConfig(level=logging.INFO)"
   ]
  },
  {
   "cell_type": "code",
   "execution_count": 2,
   "metadata": {
    "collapsed": false,
    "deletable": true,
    "editable": true
   },
   "outputs": [
    {
     "name": "stderr",
     "output_type": "stream",
     "text": [
      "INFO:gensim.utils:loading Word2VecKeyedVectors object from ../embedding/STCWiki/STCWiki_mincount0.model.bin\n",
      "INFO:gensim.utils:loading vectors from ../embedding/STCWiki/STCWiki_mincount0.model.bin.vectors.npy with mmap=None\n",
      "INFO:gensim.utils:setting ignored attribute vectors_norm to None\n",
      "INFO:gensim.utils:loaded ../embedding/STCWiki/STCWiki_mincount0.model.bin\n"
     ]
    }
   ],
   "source": [
    "doclen = param.doclen\n",
    "embsize = param.embsize\n",
    "max_sent = param.max_sent\n",
    "NDclasses = param.NDclasses\n",
    "DQclasses = param.DQclasses\n",
    "sentembsize = param.sentembsize\n",
    "\n",
    "REMOVE_STOPWORDS = False\n",
    "TO_LOWER = True\n",
    "TOKEN_TYPE = 'nltk'\n",
    "\n",
    "datahelper = datahelper.DataHelper(embedding_path=\"../embedding/STCWiki/STCWiki_mincount0.model.bin\")\n",
    "stctokenizer = stctokenizer.STCTokenizer()"
   ]
  },
  {
   "cell_type": "markdown",
   "metadata": {
    "deletable": true,
    "editable": true
   },
   "source": [
    "## Word Embedding"
   ]
  },
  {
   "cell_type": "code",
   "execution_count": 3,
   "metadata": {
    "collapsed": false,
    "deletable": true,
    "editable": true
   },
   "outputs": [],
   "source": [
    "# corpus = datahelper.prepare_word_embedding_corpus(\n",
    "#     '../data/text8', \n",
    "#     TOKEN_TYPE, \n",
    "#     REMOVE_STOPWORDS, \n",
    "#     TO_LOWER,\n",
    "# )\n",
    "\n",
    "# wordemb_model = Word2Vec(corpus, size=300, min_count=0, workers=4, iter=25)\n",
    "# word_vectors = wordemb_model.wv\n",
    "# datahelper.test_w2v_model(word_vectors, word='problem', topn=10)\n",
    "\n",
    "# 儲存訓練好的word2vec模型，因為已經訓練並儲存好了所以註解掉\n",
    "# word_vectors.save(\"../embedding/STCWiki/STCWiki_mincount0.model.bin\")\n",
    "# datahelper.set_word_vectors(word_vectors)"
   ]
  },
  {
   "cell_type": "markdown",
   "metadata": {
    "deletable": true,
    "editable": true
   },
   "source": [
    "## Read Corpus & Prepare data for model"
   ]
  },
  {
   "cell_type": "code",
   "execution_count": 4,
   "metadata": {
    "collapsed": false,
    "deletable": true,
    "editable": true
   },
   "outputs": [
    {
     "name": "stderr",
     "output_type": "stream",
     "text": [
      "INFO:corpus word2vec:Training data unknown words count: 0\n",
      "INFO:corpus word2vec:Training data unknown words count: 0\n",
      "INFO:corpus word2vec:Testing data unknown words count: 0\n"
     ]
    }
   ],
   "source": [
    "trainX, trainND, trainDQ, train_turns, train_masks = datahelper.get_model_train_data(\n",
    "    'train',\n",
    "    TOKEN_TYPE, \n",
    "    REMOVE_STOPWORDS, \n",
    "    TO_LOWER,\n",
    ")\n",
    "\n",
    "devX, devND, devDQ, dev_turns, dev_masks = datahelper.get_model_train_data(\n",
    "    'dev',\n",
    "    TOKEN_TYPE, \n",
    "    REMOVE_STOPWORDS, \n",
    "    TO_LOWER,\n",
    ")\n",
    "\n",
    "testX, test_turns, test_masks = datahelper.get_model_test_data(token_type='nltk', remove_stopwords=False, to_lower=True)\n",
    "\n",
    "testIDs = datahelper.testIDs\n",
    "trainDQA = [item['A'] for item in trainDQ]\n",
    "trainDQS = [item['S'] for item in trainDQ]\n",
    "trainDQE = [item['E'] for item in trainDQ]\n",
    "devDQA = [item['A'] for item in devDQ]\n",
    "devDQS = [item['S'] for item in devDQ]\n",
    "devDQE = [item['E'] for item in devDQ]"
   ]
  },
  {
   "cell_type": "code",
   "execution_count": 5,
   "metadata": {
    "collapsed": false,
    "deletable": true,
    "editable": true
   },
   "outputs": [],
   "source": [
    "dataND = [trainX, trainND, train_turns, train_masks, devX, devND, dev_turns, dev_masks, testX, test_turns, test_masks]\n",
    "dataDQA = [trainX, trainDQA, train_turns, devX, devDQA, dev_turns, testX, test_turns]\n",
    "dataDQS = [trainX, trainDQS, train_turns, devX, devDQS, dev_turns, testX, test_turns]\n",
    "dataDQE = [trainX, trainDQE, train_turns, devX, devDQE, dev_turns, testX, test_turns]"
   ]
  },
  {
   "cell_type": "code",
   "execution_count": 19,
   "metadata": {
    "collapsed": false,
    "deletable": true,
    "editable": true
   },
   "outputs": [],
   "source": [
    "es = 10\n",
    "fixed_paramsND  = {'epoch':50, 'early_stopping':es, 'batch_size':30, 'lr':0.001, 'kp':1, 'hiddens':1024, 'Fsize':[2,2]} \n",
    "fixed_paramsDQA = {'scoretype':'DQA', 'epoch':50, 'early_stopping':es, 'batch_size':40, 'kp':1, 'lr':0.001, 'hiddens':1024, 'Fsize':[2,2]} \n",
    "fixed_paramsDQS = {'scoretype':'DQS', 'epoch':50, 'early_stopping':es, 'batch_size':40, 'kp':1, 'lr':0.001, 'hiddens':1024, 'Fsize':[2,2]} \n",
    "fixed_paramsDQE = {'scoretype':'DQE', 'epoch':50, 'early_stopping':es, 'batch_size':40, 'kp':1, 'lr':0.001, 'hiddens':1024, 'Fsize':[2,2]} "
   ]
  },
  {
   "cell_type": "code",
   "execution_count": 20,
   "metadata": {
    "collapsed": false,
    "deletable": true,
    "editable": true
   },
   "outputs": [],
   "source": [
    "import matplotlib.pyplot as plt\n",
    "from matplotlib.ticker import MaxNLocator\n",
    "def show_train_history(title, train, valid, earlystop=es):\n",
    "    epoch = len(train)\n",
    "    best = epoch-earlystop\n",
    "    x = [i for i in range(1, epoch + 1)]\n",
    "    plt.figure(figsize=(5,12))\n",
    "    ax = plt.figure().gca()\n",
    "    ax.xaxis.set_major_locator(MaxNLocator(integer=True))\n",
    "    plt.rcParams.update({'font.size': 18})\n",
    "    plt.plot(x, train, marker='o', linestyle='-', color='b')\n",
    "    plt.plot(x, valid, marker='o', linestyle='-', color='r')\n",
    "    plt.axvline(best, color='black')\n",
    "    plt.title(title)\n",
    "    plt.ylabel('Loss')\n",
    "    plt.xlabel('Epoch')\n",
    "    plt.legend(['Training Loss', 'Validation Loss'], loc='upper right')\n",
    "    plt.show()"
   ]
  },
  {
   "cell_type": "markdown",
   "metadata": {
    "deletable": true,
    "editable": true
   },
   "source": [
    "## Test ND"
   ]
  },
  {
   "cell_type": "code",
   "execution_count": null,
   "metadata": {
    "collapsed": false,
    "deletable": true,
    "editable": true
   },
   "outputs": [],
   "source": [
    "BEST_PATH = 'ResultPickle/'\n",
    "# bestND = pickle.load(open(BEST_PATH + 'bestND.p', \"rb\"))\n",
    "bestDQAs = pickle.load(open(BEST_PATH + 'memoryDQAs.p', \"rb\"))\n",
    "bestDQSs = pickle.load(open(BEST_PATH + 'memoryDQSs.p', \"rb\"))\n",
    "bestDQEs = pickle.load(open(BEST_PATH + 'memoryDQEs.p', \"rb\"))"
   ]
  },
  {
   "cell_type": "code",
   "execution_count": null,
   "metadata": {
    "collapsed": false,
    "deletable": true,
    "editable": true
   },
   "outputs": [],
   "source": [
    "e = True\n",
    "for mr in [None, 'Bi-GRU']:\n",
    "    for num_layers in [1, 2, 3]:\n",
    "        for fn in [[256], [256, 512], [256, 512, 1024]]:\n",
    "            testname = 'heconv_Memory{}_GatingFalse_CNNRNN_{}stack_rnnLayer{}'.format(mr, len(fn), num_layers)\n",
    "            print(testname)\n",
    "            testND, train_losses, dev_losses = stctrain.start_trainND(\n",
    "                *dataND, \n",
    "                **fixed_paramsND, \n",
    "                Fnum=fn, gating=False, bn=True, method=ND.CNNRNN, num_layers=num_layers, memory_rnn_type=mr,\n",
    "                evaluate=e,\n",
    "            )\n",
    "\n",
    "            show_train_history(testname, train_losses, dev_losses)\n",
    "            datahelper.pred_to_submission(testND, bestDQAs[0], bestDQSs[0], bestDQEs[0], test_turns, testIDs, filename='{}.json'.format(testname))"
   ]
  },
  {
   "cell_type": "code",
   "execution_count": null,
   "metadata": {
    "collapsed": true,
    "deletable": true,
    "editable": true
   },
   "outputs": [],
   "source": [
    "# pickle.dump(bestNDs, open('memoryND_Labels.p', 'wb'))"
   ]
  },
  {
   "cell_type": "markdown",
   "metadata": {
    "deletable": true,
    "editable": true
   },
   "source": [
    "## Test DQ"
   ]
  },
  {
   "cell_type": "code",
   "execution_count": 21,
   "metadata": {
    "collapsed": true,
    "deletable": true,
    "editable": true
   },
   "outputs": [],
   "source": [
    "memoryNDs = pickle.load(open('ResultPickle/memoryNDs.p', 'rb'))"
   ]
  },
  {
   "cell_type": "code",
   "execution_count": null,
   "metadata": {
    "collapsed": false,
    "deletable": true,
    "editable": true
   },
   "outputs": [
    {
     "name": "stdout",
     "output_type": "stream",
     "text": [
      "A-GatingTrue_1stack_MemoryNone\n"
     ]
    },
    {
     "name": "stderr",
     "output_type": "stream",
     "text": [
      "INFO:Training:CNNCNN|15|True|True|2_2|1024|1024|0.08734|0.13380\n"
     ]
    },
    {
     "data": {
      "text/plain": [
       "<Figure size 360x864 with 0 Axes>"
      ]
     },
     "metadata": {},
     "output_type": "display_data"
    },
    {
     "data": {
      "image/png": "[encoded data removed]",
      "text/plain": [
       "<Figure size 432x288 with 1 Axes>"
      ]
     },
     "metadata": {},
     "output_type": "display_data"
    },
    {
     "name": "stdout",
     "output_type": "stream",
     "text": [
      "E-GatingTrue_1stack_MemoryNone\n"
     ]
    },
    {
     "name": "stderr",
     "output_type": "stream",
     "text": [
      "INFO:Training:CNNCNN|15|True|True|2_2|1024|1024|0.08470|0.12843\n"
     ]
    },
    {
     "data": {
      "text/plain": [
       "<Figure size 360x864 with 0 Axes>"
      ]
     },
     "metadata": {},
     "output_type": "display_data"
    },
    {
     "data": {
      "image/png": "[encoded data removed]",
      "text/plain": [
       "<Figure size 432x288 with 1 Axes>"
      ]
     },
     "metadata": {},
     "output_type": "display_data"
    },
    {
     "name": "stdout",
     "output_type": "stream",
     "text": [
      "S-GatingTrue_1stack_MemoryNone\n"
     ]
    }
   ],
   "source": [
    "e = True\n",
    "for g in [True, False]:\n",
    "    for rm in [None, 'Bi-GRU', 'Bi-LSTM']:\n",
    "        for fn in [[1024], [512, 1024], [256, 512, 1024]]:\n",
    "            testname = 'A-Gating{}_{}stack_Memory{}'.format(str(g), len(fn), rm)\n",
    "            print(testname)\n",
    "            bestDQA, train_lossesA, dev_lossesA = stctrain.start_trainDQ(\n",
    "                *dataDQA, \n",
    "                **fixed_paramsDQA, \n",
    "                Fnum=fn, gating=g, bn=True, method=DQ.CNNCNN,\n",
    "                evaluate=e,\n",
    "            )\n",
    "\n",
    "            show_train_history(testname, train_lossesA, dev_lossesA)\n",
    "\n",
    "            testname = 'E-Gating{}_{}stack_Memory{}'.format(str(g), len(fn), rm)\n",
    "            print(testname)\n",
    "            bestDQE, train_lossesE, dev_lossesE = stctrain.start_trainDQ(\n",
    "                *dataDQE, \n",
    "                **fixed_paramsDQE, \n",
    "                Fnum=fn, gating=g, bn=True, method=DQ.CNNCNN,\n",
    "                evaluate=e,\n",
    "            )\n",
    "\n",
    "            show_train_history(testname, train_lossesE, dev_lossesE)\n",
    "\n",
    "            testname = 'S-Gating{}_{}stack_Memory{}'.format(str(g), len(fn), rm)\n",
    "            print(testname)\n",
    "            bestDQS, train_lossesS, dev_lossesS = stctrain.start_trainDQ(\n",
    "                *dataDQS, \n",
    "                **fixed_paramsDQS, \n",
    "                Fnum=fn, gating=g, bn=True, method=DQ.CNNCNN,\n",
    "                evaluate=e\n",
    "            )\n",
    "\n",
    "            show_train_history(testname, train_lossesS, dev_lossesS)\n",
    "\n",
    "            testname = 'Gating{}_{}stack_Memory{}'.format(str(g), len(fn), rm)\n",
    "            datahelper.pred_to_submission(memoryNDs[0], bestDQA, bestDQS, bestDQE, test_turns, testIDs, filename='{}.json'.format(testname))\n",
    "            print(testname, 'is saved')"
   ]
  },
  {
   "cell_type": "code",
   "execution_count": null,
   "metadata": {
    "collapsed": true,
    "deletable": true,
    "editable": true
   },
   "outputs": [],
   "source": [
    "# pickle.dump(bestDQAs, open('memoryDQAs.p', 'wb'))\n",
    "# pickle.dump(bestDQSs, open('memoryDQSs.p', 'wb'))\n",
    "# pickle.dump(bestDQEs, open('memoryDQEs.p', 'wb'))"
   ]
  },
  {
   "cell_type": "markdown",
   "metadata": {
    "deletable": true,
    "editable": true
   },
   "source": [
    "## Test NDF"
   ]
  },
  {
   "cell_type": "code",
   "execution_count": null,
   "metadata": {
    "collapsed": false,
    "deletable": true,
    "editable": true
   },
   "outputs": [],
   "source": [
    "memoryNDs = pickle.load(open('ResultPickle/memoryNDs.p', 'rb'))"
   ]
  },
  {
   "cell_type": "code",
   "execution_count": null,
   "metadata": {
    "collapsed": false,
    "deletable": true,
    "editable": true
   },
   "outputs": [],
   "source": [
    "datahelper.pred_to_submission(memoryNDs[0], bestDQAs[0], bestDQSs[0], bestDQEs[0], test_turns, testIDs, filename='{}.json'.format('test'))"
   ]
  },
  {
   "cell_type": "code",
   "execution_count": null,
   "metadata": {
    "collapsed": false,
    "deletable": true,
    "editable": true
   },
   "outputs": [],
   "source": [
    "testNDmasked = [np.multiply(nd, mask) for nd, mask in zip(memoryNDs[1], test_masks)]"
   ]
  },
  {
   "cell_type": "code",
   "execution_count": null,
   "metadata": {
    "collapsed": false,
    "deletable": true,
    "editable": true
   },
   "outputs": [],
   "source": [
    "dataDQA_NDF = [trainX, trainDQA, train_turns, trainND, devX, devDQA, dev_turns, devND, testX, test_turns, testNDmasked]\n",
    "dataDQS_NDF = [trainX, trainDQS, train_turns, trainND, devX, devDQS, dev_turns, devND, testX, test_turns, testNDmasked]\n",
    "dataDQE_NDF = [trainX, trainDQE, train_turns, trainND, devX, devDQE, dev_turns, devND, testX, test_turns, testNDmasked]"
   ]
  },
  {
   "cell_type": "code",
   "execution_count": null,
   "metadata": {
    "collapsed": false,
    "deletable": true,
    "editable": true
   },
   "outputs": [],
   "source": [
    "bestDQANDFs = []\n",
    "bestDQSNDFs = []\n",
    "bestDQENDFs = []\n",
    "e = True\n",
    "for fn in [[128, 256, 512, 1024], [128, 256, 512, 1024, 1024], [128, 256, 512, 1024, 1024, 1024]]:\n",
    "#     bestDQANDF = stctrain.start_trainDQ_NDF(\n",
    "#         *dataDQA_NDF, \n",
    "#         **fixed_paramsDQA, \n",
    "#         Fnum=fn, gating=True, bn=bn, method=DQNDF.CNNRNN, \n",
    "#         evaluate=e,\n",
    "#     )\n",
    "\n",
    "    bestDQSNDF = stctrain.start_trainDQ_NDF(\n",
    "        *dataDQS_NDF, \n",
    "        **fixed_paramsDQS, \n",
    "        Fnum=fn, gating=True, bn=True, method=DQNDF.CNNRNN, \n",
    "        evaluate=e\n",
    "    )\n",
    "\n",
    "    bestDQENDF = stctrain.start_trainDQ_NDF(\n",
    "        *dataDQE_NDF, \n",
    "        **fixed_paramsDQE, \n",
    "        Fnum=fn, gating=True, bn=True, method=DQNDF.CNNRNN, \n",
    "        evaluate=e,\n",
    "    )\n",
    "\n",
    "#     bestDQANDFs.append(bestDQANDF)\n",
    "    bestDQSNDFs.append(bestDQSNDF)\n",
    "    bestDQENDFs.append(bestDQENDF)\n",
    "    print('---')"
   ]
  },
  {
   "cell_type": "code",
   "execution_count": null,
   "metadata": {
    "collapsed": true,
    "deletable": true,
    "editable": true
   },
   "outputs": [],
   "source": [
    "# pickle.dump(bestDQANDFs, open('memoryDQANDFs.p', 'wb'))\n",
    "# pickle.dump(bestDQSNDFs, open('memoryDQSNDFs.p', 'wb'))\n",
    "# pickle.dump(bestDQENDFs, open('memoryDQENDFs.p', 'wb'))"
   ]
  },
  {
   "cell_type": "markdown",
   "metadata": {
    "deletable": true,
    "editable": true
   },
   "source": [
    "## Save Final Result"
   ]
  },
  {
   "cell_type": "code",
   "execution_count": null,
   "metadata": {
    "collapsed": false,
    "deletable": true,
    "editable": true
   },
   "outputs": [],
   "source": [
    "memoryNDs = pickle.load(open('memoryNDs.p', 'rb'))\n",
    "print('ND len', len(memoryNDs))\n",
    "\n",
    "bestDQAs = pickle.load(open('memoryDQANDFs.p', 'rb'))\n",
    "bestDQSs = pickle.load(open('memoryDQSNDFs.p', 'rb'))\n",
    "bestDQEs = pickle.load(open('memoryDQENDFs.p', 'rb'))\n",
    "print('DQ len', len(bestDQAs))\n",
    "\n",
    "bestDQAsNDF = pickle.load(open('memoryDQANDFs.p', 'rb'))\n",
    "bestDQSsNDF = pickle.load(open('memoryDQSNDFs.p', 'rb'))\n",
    "bestDQEsNDF = pickle.load(open('memoryDQENDFs.p', 'rb'))\n",
    "print('DQNDF len', len(bestDQAsNDF))"
   ]
  },
  {
   "cell_type": "code",
   "execution_count": null,
   "metadata": {
    "collapsed": true,
    "deletable": true,
    "editable": true
   },
   "outputs": [],
   "source": [
    "# submission[0] = ND[1], DQA[1], DQSNDF[3], DQENDF[3]"
   ]
  },
  {
   "cell_type": "code",
   "execution_count": null,
   "metadata": {
    "collapsed": false,
    "deletable": true,
    "editable": true
   },
   "outputs": [],
   "source": [
    "testday = '190103'\n",
    "i = 0\n",
    "datahelper.pred_to_submission(\n",
    "    memoryNDs[1], \n",
    "    bestDQAs[1], bestDQSsNDF[3], bestDQEsNDF[3], \n",
    "    test_turns, testIDs, \n",
    "    filename='Testing/{}upload/{}.json'.format(testday, i),\n",
    ")"
   ]
  },
  {
   "cell_type": "code",
   "execution_count": null,
   "metadata": {
    "collapsed": false,
    "deletable": true,
    "editable": true
   },
   "outputs": [],
   "source": [
    "testday = 'TESTDAY'\n",
    "BEST_PATH = 'best_{}/'.format(testday)\n",
    "bestND = pickle.load(open(BEST_PATH + 'bestND.p', \"rb\"))\n",
    "bestDQAs = pickle.load(open(BEST_PATH + 'bestDQAs.p', \"rb\"))\n",
    "bestDQSs = pickle.load(open(BEST_PATH + 'bestDQSs.p', \"rb\"))\n",
    "bestDQEs = pickle.load(open(BEST_PATH + 'bestDQEs.p', \"rb\"))"
   ]
  },
  {
   "cell_type": "code",
   "execution_count": null,
   "metadata": {
    "collapsed": true,
    "deletable": true,
    "editable": true
   },
   "outputs": [],
   "source": [
    "pred_to_submission(bestNDs[0], bestDQAs[0], bestDQSs[0], bestDQEs[0], test_turns, testIDs, filename='nd3.json')"
   ]
  },
  {
   "cell_type": "code",
   "execution_count": null,
   "metadata": {
    "collapsed": false,
    "deletable": true,
    "editable": true
   },
   "outputs": [],
   "source": [
    "a = tf.constant(np.array([[1, 2], [3, 4], [5, 6]]), dtype=tf.float32)\n",
    "b = tf.constant(np.array([[1, 2], [3, 4], [5, 6]]), dtype=tf.float32)\n",
    "# c = tf.tensordot( a, b , axes=1)\n",
    "c = tf.reduce_sum( tf.multiply( a, b ), axis=1)\n",
    "# d = tf.scalar_mul([1,2], a)\n",
    "\n",
    "x = tf.constant([[5.0, 10.0, 15, 20], [5,10,15,20]])\n",
    "y = tf.multiply(x, [1,2,3,4])\n",
    "\n",
    "# ? = 3\n",
    "a_w = tf.constant(np.array([1,2,3,4,5]), dtype=tf.float32)\n",
    "o_m = tf.constant(np.array([[1,2,3,4,5,6,7], \n",
    "                            [1,2,3,4,5,6,7],\n",
    "                            [1,2,3,4,5,6,7],\n",
    "                            [1,2,3,4,5,6,7],\n",
    "                            [1,2,3,4,5,6,7]]), \n",
    "                            dtype=tf.float32,\n",
    "                           )\n",
    "b = tf.constant([2,3])\n",
    "c = tf.reshape(b, [-1,1,1])\n",
    "# out = tf.scalar_mul(a_w, o_m)\n",
    "# out = tf.reduce_sum(tf.multiply(a_w, o_m), axis=0)\n",
    "\n",
    "stack = [[1,2,3], [4,5,6], [7,8,9]]\n",
    "\n",
    "with tf.Session() as sess:\n",
    "#     output = sess.run(out)\n",
    "    print(sess.run(c))\n",
    "#     output = sess.run(d)\n",
    "#     print(output)\n",
    "#     print(sess.run(y))\n",
    "#     print(sess.run(tf.stack(stack)))"
   ]
  },
  {
   "cell_type": "code",
   "execution_count": null,
   "metadata": {
    "collapsed": false,
    "deletable": true,
    "editable": true
   },
   "outputs": [],
   "source": [
    "a = tf.constant([[1,1,1], [2,2,2], [3,3,3], [4,4,4], [5,5,5], [6,6,6], [7,7,7]])  # 7x3 (7x1024)\n",
    "b = tf.reduce_mean(a, axis=0)\n",
    "# b = tf.constant([1,2,3,4,5,6,7]) # (7, )\n",
    "# c = tf.reshape(b, [-1,1])\n",
    "# d = tf.multiply(a,c)\n",
    "with tf.Session() as sess:\n",
    "#     print(sess.run(a).shape)\n",
    "    print(sess.run(b))\n",
    "#     print(sess.run(d).shape)\n",
    "#     print(sess.run(d))"
   ]
  },
  {
   "cell_type": "code",
   "execution_count": null,
   "metadata": {
    "collapsed": true,
    "deletable": true,
    "editable": true
   },
   "outputs": [],
   "source": []
  }
 ],
 "metadata": {
  "kernelspec": {
   "display_name": "Python 3",
   "language": "python",
   "name": "python3"
  },
  "language_info": {
   "codemirror_mode": {
    "name": "ipython",
    "version": 3
   },
   "file_extension": ".py",
   "mimetype": "text/x-python",
   "name": "python",
   "nbconvert_exporter": "python",
   "pygments_lexer": "ipython3",
   "version": "3.5.2"
  }
 },
 "nbformat": 4,
 "nbformat_minor": 2
}
