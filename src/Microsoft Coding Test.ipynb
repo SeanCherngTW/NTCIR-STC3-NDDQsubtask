{
 "cells": [
  {
   "cell_type": "code",
   "execution_count": null,
   "metadata": {},
   "outputs": [],
   "source": [
    "1%100"
   ]
  },
  {
   "cell_type": "code",
   "execution_count": null,
   "metadata": {},
   "outputs": [],
   "source": [
    "l = [1,2,3,4,5]"
   ]
  },
  {
   "cell_type": "code",
   "execution_count": null,
   "metadata": {},
   "outputs": [],
   "source": [
    "l.pop(0)"
   ]
  },
  {
   "cell_type": "code",
   "execution_count": null,
   "metadata": {},
   "outputs": [],
   "source": [
    "l"
   ]
  },
  {
   "cell_type": "code",
   "execution_count": null,
   "metadata": {},
   "outputs": [],
   "source": [
    "l.append(6)"
   ]
  },
  {
   "cell_type": "code",
   "execution_count": null,
   "metadata": {},
   "outputs": [],
   "source": [
    "l"
   ]
  },
  {
   "cell_type": "code",
   "execution_count": null,
   "metadata": {},
   "outputs": [],
   "source": [
    "[i for i in range(1, 5)]"
   ]
  },
  {
   "cell_type": "code",
   "execution_count": null,
   "metadata": {},
   "outputs": [],
   "source": [
    "for i in range(1, 5):\n",
    "    print(i)"
   ]
  },
  {
   "cell_type": "code",
   "execution_count": null,
   "metadata": {},
   "outputs": [],
   "source": [
    "l = [1,2,3,4]\n",
    "l2 = [5,6]"
   ]
  },
  {
   "cell_type": "code",
   "execution_count": null,
   "metadata": {},
   "outputs": [],
   "source": [
    "l + l2"
   ]
  },
  {
   "cell_type": "code",
   "execution_count": null,
   "metadata": {},
   "outputs": [],
   "source": [
    "l = [1,2,3,4,5,6]\n",
    "l2 =[[1,2,3,4,5,6]] "
   ]
  },
  {
   "cell_type": "code",
   "execution_count": null,
   "metadata": {},
   "outputs": [],
   "source": [
    "J_list = [i for i in range(1, 10) if 10 % i == 0]"
   ]
  },
  {
   "cell_type": "code",
   "execution_count": null,
   "metadata": {},
   "outputs": [],
   "source": [
    "J_list"
   ]
  },
  {
   "cell_type": "code",
   "execution_count": null,
   "metadata": {},
   "outputs": [],
   "source": [
    "for i in range(5, 0, -1):\n",
    "    print(i)"
   ]
  },
  {
   "cell_type": "code",
   "execution_count": null,
   "metadata": {},
   "outputs": [],
   "source": [
    "def maxCircles(input1, input2, input3):\n",
    "# Write code here\n",
    "    from collections import defaultdict\n",
    "    N, P, X = input1, input2, input3\n",
    "    links = defaultdict(list)\n",
    "\n",
    "    for K in range(N, 1, -1):\n",
    "        for J in range(K-1, 0, -1):\n",
    "            if K % J == 0:\n",
    "                links[K].append(J)\n",
    "                links[J].append(K)\n",
    "                \n",
    "    print(links)\n",
    "\n",
    "    ans = 0\n",
    "    depth = 0\n",
    "    queue = [[P]]\n",
    "    while queue:\n",
    "        print(queue)\n",
    "        if depth > X:\n",
    "            break\n",
    "        curK_list = queue.pop(0)\n",
    "        curJ_list = []\n",
    "        for curK in curK_list:\n",
    "            if curK == P and depth > 1:\n",
    "                ans += 1\n",
    "            curJ_list += links[curK]\n",
    "\n",
    "        queue.append(curJ_list.copy())\n",
    "        depth += 1\n",
    "\n",
    "    return ans"
   ]
  },
  {
   "cell_type": "code",
   "execution_count": null,
   "metadata": {},
   "outputs": [],
   "source": [
    "maxCircles(3, 2, 4)"
   ]
  },
  {
   "cell_type": "code",
   "execution_count": null,
   "metadata": {},
   "outputs": [],
   "source": [
    "from math import sqrt\n",
    "sqrt(8)"
   ]
  },
  {
   "cell_type": "code",
   "execution_count": null,
   "metadata": {},
   "outputs": [],
   "source": [
    "def maxCircles(input1, input2, input3):\n",
    "# Write code here\n",
    "    class Person():\n",
    "        def __init__(self, label, depth):\n",
    "            self.label = label\n",
    "            self.depth = depth\n",
    "\n",
    "    N, P, X = input1, input2, input3\n",
    "    KJ_map = {}\n",
    "\n",
    "    def getJ(K):\n",
    "        J_list = []\n",
    "        if K.label == 1:\n",
    "            for i in range(2, X+1):\n",
    "                J_list.append(Person(i, K.depth+1))\n",
    "        else:\n",
    "            for i in range(1, K.label):\n",
    "                if K.label % i == 0:\n",
    "                    J_list.append(Person(i, K.depth+1))\n",
    "\n",
    "        KJ_map[K.label] = J_list\n",
    "        return J_list\n",
    "\n",
    "    ans = 0\n",
    "    queue = [Person(P, 0)]\n",
    "    while queue:\n",
    "        curK = queue.pop(0)\n",
    "        print(curK.label, curK.depth)\n",
    "        if curK.depth >= X:\n",
    "            continue\n",
    "        if curK.label == P:\n",
    "            ans += 1\n",
    "        curK_J_list = getJ(curK)\n",
    "        queue += curK_J_list\n",
    "\n",
    "    return ans"
   ]
  },
  {
   "cell_type": "code",
   "execution_count": null,
   "metadata": {},
   "outputs": [],
   "source": [
    "def maxCircles(input1, input2, input3):\n",
    "    class Person():\n",
    "        def __init__(self, label, depth):\n",
    "            self.label = label\n",
    "            self.depth = depth\n",
    "\n",
    "    N, P, X = input1, input2, input3\n",
    "    KJ_map = {}\n",
    "\n",
    "    def getJ(K):\n",
    "        if K in KJ_map:\n",
    "            return KJ_map[K]\n",
    "\n",
    "        if K == 1:\n",
    "            J_list = [i for i in range (2, N + 1)]\n",
    "        else:\n",
    "            J_list = [i for i in range(1, K) if K % i == 0]\n",
    "\n",
    "        KJ_map[K] = J_list\n",
    "        return J_list\n",
    "\n",
    "    ans = 0\n",
    "    depth = 0\n",
    "    queue = [[P]]\n",
    "    while queue:\n",
    "        if depth > X:\n",
    "            break\n",
    "        print(queue, depth)\n",
    "        curK_list = queue.pop(0)\n",
    "        curJ_list = []\n",
    "        for curK in curK_list:\n",
    "            if curK == P and depth > 1:\n",
    "                ans += 1\n",
    "            curK_J_list = getJ(curK)\n",
    "            curJ_list += curK_J_list\n",
    "\n",
    "        queue.append(curJ_list)\n",
    "        depth += 1\n",
    "        \n",
    "    return ans"
   ]
  },
  {
   "cell_type": "code",
   "execution_count": null,
   "metadata": {},
   "outputs": [],
   "source": [
    "maxCircles(5, 2, 4)"
   ]
  },
  {
   "cell_type": "code",
   "execution_count": null,
   "metadata": {},
   "outputs": [],
   "source": [
    "l.append(l2)"
   ]
  },
  {
   "cell_type": "code",
   "execution_count": null,
   "metadata": {},
   "outputs": [],
   "source": [
    "l = [i for i in range(1, 5+1)]\n",
    "l.remove(3)"
   ]
  },
  {
   "cell_type": "code",
   "execution_count": null,
   "metadata": {},
   "outputs": [],
   "source": [
    "l.index(4)"
   ]
  },
  {
   "cell_type": "code",
   "execution_count": null,
   "metadata": {},
   "outputs": [],
   "source": []
  },
  {
   "cell_type": "code",
   "execution_count": null,
   "metadata": {},
   "outputs": [],
   "source": []
  },
  {
   "cell_type": "code",
   "execution_count": null,
   "metadata": {},
   "outputs": [],
   "source": []
  },
  {
   "cell_type": "code",
   "execution_count": null,
   "metadata": {},
   "outputs": [],
   "source": []
  },
  {
   "cell_type": "code",
   "execution_count": null,
   "metadata": {},
   "outputs": [],
   "source": [
    "l = [1,2,3,4,5,3]\n",
    "l.index(3)"
   ]
  },
  {
   "cell_type": "code",
   "execution_count": null,
   "metadata": {},
   "outputs": [],
   "source": [
    "def findPosition(input1, input2, input3):\n",
    "    N, Q, EX_list = input1, input2, input3\n",
    "    line = [i for i in range(1, N+1)]\n",
    "    for E, X in EX_list:\n",
    "        print(line)\n",
    "        if E == 1:\n",
    "            line.pop(0)\n",
    "        elif E == 2:\n",
    "            line.remove(X)\n",
    "        elif E == 3:\n",
    "            print(line.index(X) + 1)\n",
    "            return\n",
    "        else:\n",
    "            raise ValueError('E should be 1, 2, 3')\n",
    "    print(0)\n",
    "    return"
   ]
  },
  {
   "cell_type": "code",
   "execution_count": null,
   "metadata": {},
   "outputs": [],
   "source": [
    "findPosition(5, 1, [[1,0]])\n",
    "findPosition(5, 3, [[1,0], [1,0], [1,0]])"
   ]
  },
  {
   "cell_type": "code",
   "execution_count": null,
   "metadata": {},
   "outputs": [],
   "source": [
    "l = [1,2,3,4,5]\n"
   ]
  },
  {
   "cell_type": "code",
   "execution_count": null,
   "metadata": {},
   "outputs": [],
   "source": [
    "l.pop(0)"
   ]
  },
  {
   "cell_type": "code",
   "execution_count": null,
   "metadata": {},
   "outputs": [],
   "source": [
    "l"
   ]
  },
  {
   "cell_type": "code",
   "execution_count": null,
   "metadata": {},
   "outputs": [],
   "source": []
  },
  {
   "cell_type": "code",
   "execution_count": null,
   "metadata": {},
   "outputs": [],
   "source": []
  },
  {
   "cell_type": "code",
   "execution_count": null,
   "metadata": {},
   "outputs": [],
   "source": []
  },
  {
   "cell_type": "code",
   "execution_count": null,
   "metadata": {},
   "outputs": [],
   "source": []
  },
  {
   "cell_type": "code",
   "execution_count": null,
   "metadata": {},
   "outputs": [],
   "source": [
    "def is_palindrome(seq):\n",
    "    return seq == seq[::-1]"
   ]
  },
  {
   "cell_type": "code",
   "execution_count": null,
   "metadata": {},
   "outputs": [],
   "source": [
    "is_palindrome([1,2,3,4,5,6,4,3,2,1])"
   ]
  },
  {
   "cell_type": "code",
   "execution_count": null,
   "metadata": {},
   "outputs": [],
   "source": [
    "1,2,3,4,5,4,3,2,1"
   ]
  },
  {
   "cell_type": "code",
   "execution_count": null,
   "metadata": {},
   "outputs": [],
   "source": []
  },
  {
   "cell_type": "code",
   "execution_count": null,
   "metadata": {},
   "outputs": [],
   "source": []
  },
  {
   "cell_type": "code",
   "execution_count": null,
   "metadata": {},
   "outputs": [],
   "source": []
  },
  {
   "cell_type": "code",
   "execution_count": null,
   "metadata": {},
   "outputs": [],
   "source": []
  },
  {
   "cell_type": "code",
   "execution_count": null,
   "metadata": {},
   "outputs": [],
   "source": [
    "def honey(input1, input2, input3, input4, input5, input6):\n",
    "    # Write code here\n",
    "    from math import sqrt\n",
    "    import sys\n",
    "    numF, numH, posF, posH, start, max_time = input1, input2, input3, input4, input5, input6\n",
    "    distance_dict = {}\n",
    "\n",
    "    def nearest(cur, destination):\n",
    "        curX, curY = cur\n",
    "        min_time = sys.maxsize\n",
    "        nearest_pos = None\n",
    "\n",
    "        for desX, desY in destination:\n",
    "            if (curX, curY, desX, desY) in distance_dict:\n",
    "                time = distance_dict[(curX, curY, desX, desY)]\n",
    "            else:\n",
    "                time = (desX - curX) ** 2 + (desY - curY) ** 2\n",
    "                distance_dict[(curX, curY, desX, desY)] = min_time\n",
    "\n",
    "            if time < min_time:\n",
    "                min_time = time\n",
    "                nearest_pos = [desX, desY]\n",
    "\n",
    "        return nearest_pos, min_time\n",
    "\n",
    "    def go_home_time(cur, des):\n",
    "        curX, curY = cur\n",
    "        desX, desY = des\n",
    "        if (curX, curY, desX, desY) in distance_dict:\n",
    "            return distance_dict[(curX, curY, desX, desY)]\n",
    "\n",
    "        return sqrt((start[0]-cur[0]) ** 2 + (start[1] - cur[1]) ** 2)\n",
    "\n",
    "    cur = start\n",
    "    time = 0\n",
    "    ans = 0\n",
    "\n",
    "    while time < max_time and posF and posH:\n",
    "        # Find the nearest flower\n",
    "        nearest_flower, min_time = nearest(cur, posF)\n",
    "        cur = nearest_flower\n",
    "        time += sqrt(min_time)\n",
    "        posF.remove(nearest_flower)\n",
    "        if time > max_time:\n",
    "            break\n",
    "\n",
    "        # Find the nearest honeycomb\n",
    "        nearest_honeycomb, min_time = nearest(cur, posH)\n",
    "        cur = nearest_honeycomb\n",
    "        time += sqrt(min_time)\n",
    "        if time + go_home_time(cur, start) > max_time:\n",
    "            break\n",
    "\n",
    "        ans += 1\n",
    "\n",
    "    return ans"
   ]
  },
  {
   "cell_type": "code",
   "execution_count": null,
   "metadata": {},
   "outputs": [],
   "source": [
    "# honey(2, 2, [[3,3],[4,6]], [[5,5],[6,1]], [1,4], 13)\n",
    "honey(4, 1, [[3,5],[7,5],[7,3],[8,4]], [[7,7]],[5,5], 22)"
   ]
  },
  {
   "cell_type": "code",
   "execution_count": null,
   "metadata": {},
   "outputs": [],
   "source": [
    "d = {}\n",
    "d[[1,2]] = 3"
   ]
  },
  {
   "cell_type": "code",
   "execution_count": null,
   "metadata": {},
   "outputs": [],
   "source": [
    "(1,2) in d"
   ]
  },
  {
   "cell_type": "code",
   "execution_count": 34,
   "metadata": {},
   "outputs": [
    {
     "ename": "TypeError",
     "evalue": "unsupported operand type(s) for -: 'list' and 'list'",
     "output_type": "error",
     "traceback": [
      "\u001b[0;31m---------------------------------------------------------------------------\u001b[0m",
      "\u001b[0;31mTypeError\u001b[0m                                 Traceback (most recent call last)",
      "\u001b[0;32m<ipython-input-34-50cd980a71af>\u001b[0m in \u001b[0;36m<module>\u001b[0;34m()\u001b[0m\n\u001b[1;32m      1\u001b[0m \u001b[0ml\u001b[0m \u001b[0;34m=\u001b[0m \u001b[0;34m[\u001b[0m\u001b[0;36m1\u001b[0m\u001b[0;34m,\u001b[0m\u001b[0;36m2\u001b[0m\u001b[0;34m,\u001b[0m\u001b[0;36m3\u001b[0m\u001b[0;34m,\u001b[0m\u001b[0;36m4\u001b[0m\u001b[0;34m,\u001b[0m\u001b[0;36m5\u001b[0m\u001b[0;34m]\u001b[0m\u001b[0;34m\u001b[0m\u001b[0m\n\u001b[0;32m----> 2\u001b[0;31m \u001b[0ml\u001b[0m \u001b[0;34m-\u001b[0m \u001b[0ml\u001b[0m\u001b[0;34m[\u001b[0m\u001b[0;36m1\u001b[0m\u001b[0;34m:\u001b[0m\u001b[0;36m3\u001b[0m\u001b[0;34m]\u001b[0m\u001b[0;34m\u001b[0m\u001b[0m\n\u001b[0m",
      "\u001b[0;31mTypeError\u001b[0m: unsupported operand type(s) for -: 'list' and 'list'"
     ]
    }
   ],
   "source": [
    "l = [1,2,3,4,5]\n",
    "l - l[1:3]"
   ]
  },
  {
   "cell_type": "code",
   "execution_count": 39,
   "metadata": {},
   "outputs": [
    {
     "name": "stdout",
     "output_type": "stream",
     "text": [
      "1\n",
      "2\n",
      "3\n",
      "4\n"
     ]
    }
   ],
   "source": [
    "for i in range(1, 5):\n",
    "    print(i)"
   ]
  },
  {
   "cell_type": "code",
   "execution_count": 33,
   "metadata": {},
   "outputs": [
    {
     "name": "stdout",
     "output_type": "stream",
     "text": [
      "1\n",
      "2\n",
      "3\n",
      "4\n"
     ]
    }
   ],
   "source": [
    "for stride in range(1, 5):\n",
    "    print(stride)"
   ]
  },
  {
   "cell_type": "code",
   "execution_count": null,
   "metadata": {},
   "outputs": [],
   "source": [
    "import sys\n",
    "total_node = 1+2+3\n",
    "graph = [[sys.maxsize] * total_node for _ in range(total_node)]"
   ]
  },
  {
   "cell_type": "code",
   "execution_count": null,
   "metadata": {},
   "outputs": [],
   "source": [
    "len(graph)"
   ]
  },
  {
   "cell_type": "code",
   "execution_count": 9,
   "metadata": {},
   "outputs": [],
   "source": [
    "def honey(input1, input2, input3, input4, input5, input6):\n",
    "    import sys\n",
    "    from math import sqrt\n",
    "    numF, numH, posF, posH, start, max_time = input1, input2, input3, input4, input5, input6\n",
    "    inf = sys.maxsize\n",
    "\n",
    "    def get_distance(x1, x2):\n",
    "        return sqrt((x1[0]-x2[0]) ** 2 + (x1[1] - x2[1]) ** 2)\n",
    "\n",
    "    # Create graph\n",
    "    total_node = numF + numH + 1\n",
    "    graph = [[inf] * total_node for _ in range(total_node)]\n",
    "\n",
    "    # Set weight between flower and honeycomb \n",
    "    # (idx: start=0, flower=1,2,...,n, honeycomb=n+1,n+2,..,m)\n",
    "    h_startidx = numF + 1\n",
    "    for i, flower in enumerate(posF, 1):\n",
    "        for j, honeycomb in enumerate(posH):\n",
    "            distance = get_distance(flower, honeycomb)\n",
    "            graph[i][h_startidx+j] = distance\n",
    "            graph[h_startidx+j][i] = distance\n",
    "\n",
    "    # Set weight between start and flowers\n",
    "    for i, flower in enumerate(posF, 1):\n",
    "        distance = get_distance(start, flower)\n",
    "        graph[0][i] = distance\n",
    "        graph[i][0] = distance\n",
    "\n",
    "    # Set weight between start and honeycombs\n",
    "    for j, honeycomb in enumerate(posH):\n",
    "        distance = get_distance(start, honeycomb)\n",
    "        graph[0][h_startidx+j] = distance\n",
    "        graph[h_startidx+j][0] = distance\n",
    "        \n",
    "    start_dist = graph[0]\n",
    "    min_point = start_dist.index(min(start_dist))\n",
    "    T = set()\n",
    "    \n",
    "    while (len(T) < numF+numH+1):\n",
    "        T.add(min_point)\n",
    "        for i, weight in enumerate(graph[min_point]):\n",
    "            if i not in T:\n",
    "                start_dist[i] = min(start_dist[i], start_dist[min_point] + graph[min_point][i])\n",
    "                \n",
    "        min_dist = sys.maxsize\n",
    "        for i,d in enumerate(start_dist):\n",
    "            if i not in T and d > 0 and d < min_dist:\n",
    "                min_dist = d\n",
    "                min_point = i\n",
    "    return start_dist"
   ]
  },
  {
   "cell_type": "code",
   "execution_count": 10,
   "metadata": {},
   "outputs": [
    {
     "data": {
      "text/plain": [
       "[4.47213595499958,\n",
       " 2.23606797749979,\n",
       " 3.605551275463989,\n",
       " 4.123105625617661,\n",
       " 5.830951894845301]"
      ]
     },
     "execution_count": 10,
     "metadata": {},
     "output_type": "execute_result"
    }
   ],
   "source": [
    "honey(2, 2, [[3,3],[4,6]], [[5,5],[6,1]], [1,4], 13)"
   ]
  },
  {
   "cell_type": "code",
   "execution_count": 11,
   "metadata": {},
   "outputs": [],
   "source": [
    "def permutation(xs):\n",
    "    if len(xs) == 0 or len(xs) == 1:\n",
    "        return [xs]\n",
    "    result = []\n",
    "    for i in xs:\n",
    "        temp_list = xs[:]\n",
    "        temp_list.remove(i)\n",
    "        temp = permutation(temp_list)\n",
    "        for j in temp:\n",
    "            j[0:0] = [i]\n",
    "            result.append(j)\n",
    "    return result"
   ]
  },
  {
   "cell_type": "code",
   "execution_count": 12,
   "metadata": {},
   "outputs": [
    {
     "data": {
      "text/plain": [
       "[[1, 2, 3, 4, 5],\n",
       " [1, 2, 3, 5, 4],\n",
       " [1, 2, 4, 3, 5],\n",
       " [1, 2, 4, 5, 3],\n",
       " [1, 2, 5, 3, 4],\n",
       " [1, 2, 5, 4, 3],\n",
       " [1, 3, 2, 4, 5],\n",
       " [1, 3, 2, 5, 4],\n",
       " [1, 3, 4, 2, 5],\n",
       " [1, 3, 4, 5, 2],\n",
       " [1, 3, 5, 2, 4],\n",
       " [1, 3, 5, 4, 2],\n",
       " [1, 4, 2, 3, 5],\n",
       " [1, 4, 2, 5, 3],\n",
       " [1, 4, 3, 2, 5],\n",
       " [1, 4, 3, 5, 2],\n",
       " [1, 4, 5, 2, 3],\n",
       " [1, 4, 5, 3, 2],\n",
       " [1, 5, 2, 3, 4],\n",
       " [1, 5, 2, 4, 3],\n",
       " [1, 5, 3, 2, 4],\n",
       " [1, 5, 3, 4, 2],\n",
       " [1, 5, 4, 2, 3],\n",
       " [1, 5, 4, 3, 2],\n",
       " [2, 1, 3, 4, 5],\n",
       " [2, 1, 3, 5, 4],\n",
       " [2, 1, 4, 3, 5],\n",
       " [2, 1, 4, 5, 3],\n",
       " [2, 1, 5, 3, 4],\n",
       " [2, 1, 5, 4, 3],\n",
       " [2, 3, 1, 4, 5],\n",
       " [2, 3, 1, 5, 4],\n",
       " [2, 3, 4, 1, 5],\n",
       " [2, 3, 4, 5, 1],\n",
       " [2, 3, 5, 1, 4],\n",
       " [2, 3, 5, 4, 1],\n",
       " [2, 4, 1, 3, 5],\n",
       " [2, 4, 1, 5, 3],\n",
       " [2, 4, 3, 1, 5],\n",
       " [2, 4, 3, 5, 1],\n",
       " [2, 4, 5, 1, 3],\n",
       " [2, 4, 5, 3, 1],\n",
       " [2, 5, 1, 3, 4],\n",
       " [2, 5, 1, 4, 3],\n",
       " [2, 5, 3, 1, 4],\n",
       " [2, 5, 3, 4, 1],\n",
       " [2, 5, 4, 1, 3],\n",
       " [2, 5, 4, 3, 1],\n",
       " [3, 1, 2, 4, 5],\n",
       " [3, 1, 2, 5, 4],\n",
       " [3, 1, 4, 2, 5],\n",
       " [3, 1, 4, 5, 2],\n",
       " [3, 1, 5, 2, 4],\n",
       " [3, 1, 5, 4, 2],\n",
       " [3, 2, 1, 4, 5],\n",
       " [3, 2, 1, 5, 4],\n",
       " [3, 2, 4, 1, 5],\n",
       " [3, 2, 4, 5, 1],\n",
       " [3, 2, 5, 1, 4],\n",
       " [3, 2, 5, 4, 1],\n",
       " [3, 4, 1, 2, 5],\n",
       " [3, 4, 1, 5, 2],\n",
       " [3, 4, 2, 1, 5],\n",
       " [3, 4, 2, 5, 1],\n",
       " [3, 4, 5, 1, 2],\n",
       " [3, 4, 5, 2, 1],\n",
       " [3, 5, 1, 2, 4],\n",
       " [3, 5, 1, 4, 2],\n",
       " [3, 5, 2, 1, 4],\n",
       " [3, 5, 2, 4, 1],\n",
       " [3, 5, 4, 1, 2],\n",
       " [3, 5, 4, 2, 1],\n",
       " [4, 1, 2, 3, 5],\n",
       " [4, 1, 2, 5, 3],\n",
       " [4, 1, 3, 2, 5],\n",
       " [4, 1, 3, 5, 2],\n",
       " [4, 1, 5, 2, 3],\n",
       " [4, 1, 5, 3, 2],\n",
       " [4, 2, 1, 3, 5],\n",
       " [4, 2, 1, 5, 3],\n",
       " [4, 2, 3, 1, 5],\n",
       " [4, 2, 3, 5, 1],\n",
       " [4, 2, 5, 1, 3],\n",
       " [4, 2, 5, 3, 1],\n",
       " [4, 3, 1, 2, 5],\n",
       " [4, 3, 1, 5, 2],\n",
       " [4, 3, 2, 1, 5],\n",
       " [4, 3, 2, 5, 1],\n",
       " [4, 3, 5, 1, 2],\n",
       " [4, 3, 5, 2, 1],\n",
       " [4, 5, 1, 2, 3],\n",
       " [4, 5, 1, 3, 2],\n",
       " [4, 5, 2, 1, 3],\n",
       " [4, 5, 2, 3, 1],\n",
       " [4, 5, 3, 1, 2],\n",
       " [4, 5, 3, 2, 1],\n",
       " [5, 1, 2, 3, 4],\n",
       " [5, 1, 2, 4, 3],\n",
       " [5, 1, 3, 2, 4],\n",
       " [5, 1, 3, 4, 2],\n",
       " [5, 1, 4, 2, 3],\n",
       " [5, 1, 4, 3, 2],\n",
       " [5, 2, 1, 3, 4],\n",
       " [5, 2, 1, 4, 3],\n",
       " [5, 2, 3, 1, 4],\n",
       " [5, 2, 3, 4, 1],\n",
       " [5, 2, 4, 1, 3],\n",
       " [5, 2, 4, 3, 1],\n",
       " [5, 3, 1, 2, 4],\n",
       " [5, 3, 1, 4, 2],\n",
       " [5, 3, 2, 1, 4],\n",
       " [5, 3, 2, 4, 1],\n",
       " [5, 3, 4, 1, 2],\n",
       " [5, 3, 4, 2, 1],\n",
       " [5, 4, 1, 2, 3],\n",
       " [5, 4, 1, 3, 2],\n",
       " [5, 4, 2, 1, 3],\n",
       " [5, 4, 2, 3, 1],\n",
       " [5, 4, 3, 1, 2],\n",
       " [5, 4, 3, 2, 1]]"
      ]
     },
     "execution_count": 12,
     "metadata": {},
     "output_type": "execute_result"
    }
   ],
   "source": [
    "permutation([1,2,3,4,5])"
   ]
  },
  {
   "cell_type": "code",
   "execution_count": 1,
   "metadata": {},
   "outputs": [
    {
     "data": {
      "text/plain": [
       "1"
      ]
     },
     "execution_count": 1,
     "metadata": {},
     "output_type": "execute_result"
    }
   ],
   "source": [
    "min([1,2])"
   ]
  },
  {
   "cell_type": "code",
   "execution_count": 13,
   "metadata": {},
   "outputs": [
    {
     "name": "stdout",
     "output_type": "stream",
     "text": [
      "Minimum number of deletions =  8\n"
     ]
    }
   ],
   "source": [
    "def lps(str): \n",
    "    n = len(str) \n",
    "   \n",
    "    # Create a table to store \n",
    "    # results of subproblems \n",
    "    L = [[0 for x in range(n)]for y in range(n)] \n",
    "   \n",
    "    # Strings of length 1 \n",
    "    # are palindrome of length 1 \n",
    "    for i in range(n): \n",
    "        L[i][i] = 1\n",
    "   \n",
    "    # Build the table. Note that  \n",
    "    # the lower diagonal values  \n",
    "    # of table are useless and  \n",
    "    # not filled in the process.  \n",
    "    # c1 is length of substring \n",
    "    for cl in range( 2, n+1): \n",
    "        for i in range(n - cl + 1): \n",
    "            j = i + cl - 1\n",
    "            if (str[i] == str[j] and cl == 2): \n",
    "                L[i][j] = 2\n",
    "            elif (str[i] == str[j]): \n",
    "                L[i][j] = L[i + 1][j - 1] + 2\n",
    "            else: \n",
    "                L[i][j] = max(L[i][j - 1],L[i + 1][j]) \n",
    "   \n",
    "    # length of longest \n",
    "    # palindromic subseq \n",
    "    return L[0][n - 1] \n",
    "   \n",
    "# function to calculate  \n",
    "# minimum number of deletions \n",
    "def minimumNumberOfDeletions( str): \n",
    "  \n",
    "    n = len(str) \n",
    "   \n",
    "    # Find longest palindromic  \n",
    "    # subsequence \n",
    "    l = lps(str) \n",
    "   \n",
    "    # After removing characters  \n",
    "    # other than the lps, we  \n",
    "    # get palindrome. \n",
    "    return (n - l) \n",
    "   \n",
    "# Driver Code \n",
    "if __name__ == \"__main__\": \n",
    "      \n",
    "    str = \"geeksforgeeks\"\n",
    "    print( \"Minimum number of deletions = \"\n",
    "         , minimumNumberOfDeletions(str)) "
   ]
  },
  {
   "cell_type": "code",
   "execution_count": 31,
   "metadata": {},
   "outputs": [
    {
     "name": "stdout",
     "output_type": "stream",
     "text": [
      "6 7 2\n",
      "2 5 4\n",
      "1 6 6\n",
      "1 7 7\n",
      "[[0, 0, 0, 0, 0, 2, 4, 4], [0, 0, 0, 0, 0, 2, 4, 4], [0, 0, 0, 0, 0, 2, 2, 2], [0, 0, 0, 0, 0, 0, 0, 2], [0, 0, 0, 0, 0, 0, 0, 2], [0, 0, 0, 0, 0, 0, 0, 2], [0, 0, 0, 0, 0, 0, 0, 2], [0, 0, 0, 0, 0, 0, 0, 0]]\n",
      "4\n"
     ]
    }
   ],
   "source": [
    "def calc_matrix_dynamic(string):\n",
    "    n=len(string)\n",
    "    arr=[[0] * n for j in range(n)]\n",
    "    for i in range(n):\n",
    "        arr[i][i]=0\n",
    "\n",
    "    for length in range(2,n+1):\n",
    "        for i in range(0,n-length+1):\n",
    "            j=i+length-1\n",
    "#             print(i, j)\n",
    "            if string[i]==string[j] and length==2:\n",
    "                print(i, j, length)\n",
    "                arr[i][j] =2\n",
    "            elif string[i]==string[j]:\n",
    "                print(i, j, length)\n",
    "                arr[i][j]=2+arr[i+1][j-1]\n",
    "            else:\n",
    "                arr[i][j]=max(arr[i+1][j],arr[i][j-1])\n",
    "    print(arr)\n",
    "    return arr[0][n-1]\n",
    "\n",
    "#print(calc_matrix_dynamic(\"abba\"))\n",
    "string=\"12354322\"\n",
    "max_sub_string_lenght=calc_matrix_dynamic(string)\n",
    "print(len(string)-max_sub_string_lenght)"
   ]
  },
  {
   "cell_type": "code",
   "execution_count": null,
   "metadata": {},
   "outputs": [],
   "source": []
  }
 ],
 "metadata": {
  "kernelspec": {
   "display_name": "Python 3",
   "language": "python",
   "name": "python3"
  },
  "language_info": {
   "codemirror_mode": {
    "name": "ipython",
    "version": 3
   },
   "file_extension": ".py",
   "mimetype": "text/x-python",
   "name": "python",
   "nbconvert_exporter": "python",
   "pygments_lexer": "ipython3",
   "version": "3.5.2"
  }
 },
 "nbformat": 4,
 "nbformat_minor": 2
}
