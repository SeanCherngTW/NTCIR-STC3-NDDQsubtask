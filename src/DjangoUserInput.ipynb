{
 "cells": [
  {
   "cell_type": "code",
   "execution_count": 21,
   "metadata": {},
   "outputs": [],
   "source": [
    "import re\n",
    "import json\n",
    "import param\n",
    "import pickle\n",
    "import logging\n",
    "import operator\n",
    "import unicodedata\n",
    "import stctokenizer\n",
    "import numpy as np\n",
    "from pprint import pprint\n",
    "from random import shuffle\n",
    "from collections import Counter\n",
    "from collections import defaultdict\n",
    "from gensim.models.keyedvectors import KeyedVectors\n",
    "\n",
    "from gensim.models import word2vec\n",
    "from gensim import models\n",
    "\n",
    "from nltk.corpus import stopwords\n",
    "sw = stopwords.words(\"english\")\n",
    "\n",
    "doclen = param.doclen\n",
    "embsize = param.embsize\n",
    "max_sent = param.max_sent\n",
    "NDclasses = param.NDclasses\n",
    "stctokenizer = stctokenizer.STCTokenizer()"
   ]
  },
  {
   "cell_type": "code",
   "execution_count": 25,
   "metadata": {},
   "outputs": [],
   "source": [
    "def turn2mask(turns):\n",
    "    # {'CNUG*': 0, 'CNUG': 1, 'CNaN': 2, 'CNUG0': 3, 'HNUG*': 4, 'HNUG': 5, 'HNaN': 6}\n",
    "    all_dialog_masks = []\n",
    "    for turn in turns:\n",
    "        dialog_mask = []\n",
    "        for i in range(max_sent):\n",
    "            if i < turn:\n",
    "                if i % 2 == 0:  # customer\n",
    "                    dialog_mask.append(np.concatenate((np.ones(4), np.zeros(3))))\n",
    "                else:  # helpdesk\n",
    "                    dialog_mask.append(np.concatenate((np.zeros(4), np.ones(3))))\n",
    "            else:\n",
    "                dialog_mask.append(np.zeros(max_sent))\n",
    "\n",
    "        dialog_mask = np.asarray(dialog_mask)\n",
    "        all_dialog_masks.append(np.asarray(dialog_mask.copy()))\n",
    "    return all_dialog_masks"
   ]
  },
  {
   "cell_type": "code",
   "execution_count": 26,
   "metadata": {},
   "outputs": [],
   "source": [
    "def user_input(texts):\n",
    "    if type(texts) != list:\n",
    "        assert False, 'Input should be a list'\n",
    "    print('Importing BertClient')\n",
    "    from bert_serving.client import BertClient\n",
    "    bc = BertClient(ip='140.115.54.42')\n",
    "    \n",
    "    X = []\n",
    "    turns = []\n",
    "    bertX = []\n",
    "    \n",
    "    remove_stopwords = False\n",
    "    to_lower = True\n",
    "    token_type = 'nltk'\n",
    "    emb = 'stc' # glove or stc\n",
    "\n",
    "    maxlen = 0\n",
    "    dialogbertX = []\n",
    "\n",
    "    for text in texts:\n",
    "        text = '.' if text == '' else text\n",
    "        tokens = stctokenizer.tokenize(token_type, text, remove_stopwords, to_lower)\n",
    "        vec = np.reshape(bc.encode([text]), 1024)\n",
    "        dialogbertX.append(vec)\n",
    "\n",
    "    turns.append(len(dialogbertX))\n",
    "\n",
    "    # Pending with zero for dialogs with turns < 7\n",
    "    while len(dialogbertX) < max_sent:\n",
    "        dialogbertX.append(np.zeros([1024, ]))\n",
    "\n",
    "    bertX.append(np.asarray(dialogbertX))\n",
    "    masks = turn2mask(turns)\n",
    "    return np.asarray(bertX), turns, masks"
   ]
  },
  {
   "cell_type": "code",
   "execution_count": 27,
   "metadata": {},
   "outputs": [
    {
     "name": "stdout",
     "output_type": "stream",
     "text": [
      "Importing BertClient\n"
     ]
    }
   ],
   "source": [
    "inputX, input_turns, input_masks = user_input(['Hi how are you doing', 'Im good thank you'])"
   ]
  },
  {
   "cell_type": "code",
   "execution_count": 29,
   "metadata": {},
   "outputs": [
    {
     "data": {
      "text/plain": [
       "(1, 7, 1024)"
      ]
     },
     "execution_count": 29,
     "metadata": {},
     "output_type": "execute_result"
    }
   ],
   "source": [
    "inputX.shape"
   ]
  },
  {
   "cell_type": "code",
   "execution_count": null,
   "metadata": {},
   "outputs": [],
   "source": []
  }
 ],
 "metadata": {
  "kernelspec": {
   "display_name": "Python 3",
   "language": "python",
   "name": "python3"
  },
  "language_info": {
   "codemirror_mode": {
    "name": "ipython",
    "version": 3
   },
   "file_extension": ".py",
   "mimetype": "text/x-python",
   "name": "python",
   "nbconvert_exporter": "python",
   "pygments_lexer": "ipython3",
   "version": "3.6.5"
  }
 },
 "nbformat": 4,
 "nbformat_minor": 2
}
